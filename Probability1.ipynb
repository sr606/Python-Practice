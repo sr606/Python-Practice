{
  "nbformat": 4,
  "nbformat_minor": 0,
  "metadata": {
    "colab": {
      "provenance": [],
      "authorship_tag": "ABX9TyPBWKGUmD2epciKTMzib1yw",
      "include_colab_link": true
    },
    "kernelspec": {
      "name": "python3",
      "display_name": "Python 3"
    },
    "language_info": {
      "name": "python"
    }
  },
  "cells": [
    {
      "cell_type": "markdown",
      "metadata": {
        "id": "view-in-github",
        "colab_type": "text"
      },
      "source": [
        "<a href=\"https://colab.research.google.com/github/sr606/Python-Practice/blob/main/Probability1.ipynb\" target=\"_parent\"><img src=\"https://colab.research.google.com/assets/colab-badge.svg\" alt=\"Open In Colab\"/></a>"
      ]
    },
    {
      "cell_type": "code",
      "execution_count": null,
      "metadata": {
        "id": "cHBSq0fcTVKi"
      },
      "outputs": [],
      "source": []
    },
    {
      "cell_type": "markdown",
      "source": [
        "1. Experiment = any activity/task\n",
        "\n",
        "A. a^2 + b^2 + 2ab\n",
        "\n",
        "when we know that always a or b's value it will be same whoever is writing the equation then we say it as *deterministic equation*\n",
        "\n",
        "here o/p is always *true*\n",
        "\n",
        "\n",
        "B. flipping a coin ==> heads or tail\n",
        "\n",
        "not deterministic\n",
        "\n",
        "\n",
        "C. rolling 6 sided die\n",
        "\n",
        "anser not fixed ans will between 1-6\n",
        "\n",
        "\n",
        "B and C are *probabilistic experiment*\n",
        "\n",
        "\n",
        "\n",
        "\n",
        "\n",
        "\n",
        "\n",
        "\n"
      ],
      "metadata": {
        "id": "sSr1Rd3GTbTS"
      }
    },
    {
      "cell_type": "markdown",
      "source": [
        "2. Outcomes\n",
        "\n",
        "rolling 6 sided die==>{1,2,3,4,5,6}\n",
        "outcome can b one of these\n",
        "\n"
      ],
      "metadata": {
        "id": "18udsTqOU12n"
      }
    },
    {
      "cell_type": "markdown",
      "source": [
        "3. Sample Space =\n",
        "\n",
        "collection of all outcomes\n",
        "\n",
        "rolling 6 sided die==>{1,2,3,4,5,6}"
      ],
      "metadata": {
        "id": "9MI1zMMMUzHf"
      }
    },
    {
      "cell_type": "markdown",
      "source": [
        "4. Events\n",
        "\n",
        "subset of sample space\n",
        "\n",
        "\n",
        "what r the possible outcomes when die is rolled and no.> 2 has occured\n",
        "\n",
        "E = {3, 4, 5, 6}"
      ],
      "metadata": {
        "id": "xWSv7HXXVRAn"
      }
    },
    {
      "cell_type": "markdown",
      "source": [
        "if we toss a coin what is outcome\n",
        "\n",
        "outcomes = {H} /{T}\n",
        "\n",
        "sample space = {H, T}\n",
        "\n",
        "event == getting heads\n",
        "\n",
        "outcome= {H}\n",
        "\n",
        "event == coin disappearing\n",
        "\n",
        "outcome = null/ empty set{}/\n",
        "\n",
        "event = getting heads/tails\n",
        "\n",
        "outcome = {H,T}\n",
        "\n",
        "Total number of subests  of set having N ==> 2^N"
      ],
      "metadata": {
        "id": "V7_EJkfSWmtb"
      }
    },
    {
      "cell_type": "markdown",
      "source": [
        "We are tossing a coin followed by a dice.\n",
        "How many possible outcomes will be there in the sample space?\n",
        "Waiting for others to complete the quiz\n",
        "\n",
        "10\n",
        "\n",
        "8\n",
        "\n",
        "12\n",
        "\n",
        "16\n",
        "\n",
        "\n",
        "To solve the problem:\n",
        "\n",
        "### Step 1: Understand the Problem\n",
        "1. A **coin toss** has 2 possible outcomes: `Heads (H)` or `Tails (T)`.\n",
        "2. A **dice roll** has 6 possible outcomes: `1, 2, 3, 4, 5, 6`.\n",
        "\n",
        "The coin is tossed first, followed by the dice being rolled. Each coin outcome can pair with each dice outcome.\n",
        "\n",
        "---\n",
        "\n",
        "### Step 2: Calculate the Sample Space\n",
        "The total number of outcomes in the sample space is given by the **product of the possible outcomes** of the coin toss and the dice roll:\n",
        "\\[\n",
        "\\text{Total outcomes} = (\\text{Outcomes of coin}) \\times (\\text{Outcomes of dice}) = 2 \\times 6 = 12\n",
        "\\]\n",
        "\n",
        "---\n",
        "\n",
        "### Step 3: Answer the Question\n",
        "The number of possible outcomes in the sample space is **12**.\n",
        "\n",
        "---\n",
        "\n",
        "### Final Answer:\n",
        "**C) 12**\n"
      ],
      "metadata": {
        "id": "AFk48H0OZi3J"
      }
    },
    {
      "cell_type": "markdown",
      "source": [
        "![image.png](\n",
        "  \n",
        ")"
      ],
      "metadata": {
        "id": "IxPSPbmxZzcc"
      }
    },
    {
      "cell_type": "markdown",
      "source": [
        "Cardinality == size of sample space\n",
        "\n",
        "in above ex 12 is cardinality"
      ],
      "metadata": {
        "id": "82mV-0FuZ5K-"
      }
    },
    {
      "cell_type": "markdown",
      "source": [
        "###SET OPERATIOSN\n",
        "\n",
        "sample space ===> {1,2,3,4,5,6}==> universal set\n",
        "\n",
        "\n",
        "event -> A: Getting odd no A= {1,3,5}\n",
        "\n",
        "         B: Getting num > 2 = {3,4,5,6}\n",
        "\n",
        "1. Getting odd num > 2 {intersection}\n",
        "\n",
        "A intersection B ={3,5}   AND condition\n",
        "\n",
        "\n",
        "2. Getting odd no or num > 2 (union)\n",
        "\n",
        "A union B = {1,3,4,5,6}  OR condition\n",
        "\n",
        "\n",
        "3. Getting even no. (not odd) (complement)\n",
        "\n",
        "A' = {2,4,6}\n",
        "\n",
        "A^c"
      ],
      "metadata": {
        "id": "a_BmloArd6kJ"
      }
    },
    {
      "cell_type": "markdown",
      "source": [
        "###Types of events\n",
        "\n",
        "\n",
        "Events --->\n",
        "\n",
        "A: Getting odd no {1,3,5}\n",
        "\n",
        "B : Getting num > 2 {3,4,5,6}\n",
        "\n",
        "C : Getting num > 5 {6}\n",
        "\n",
        "D : Getting a 2 {2}\n",
        "\n",
        "A intersection C == {} null empty== mutually exclusive event\n",
        "\n",
        "disjoint event no common element in between\n",
        "\n",
        "\n",
        "A union b union D == {1,2,3,4,5,6} universal set\n",
        "\n",
        "\n",
        "exaustive events = collection of events such that they form universal event\n",
        "\n",
        "A unoion B = {1,3,4,5,6} non-mutually exclusive events / joint events\n",
        "\n",
        "A intersection B ={3,5}\n",
        "\n",
        "\n",
        "Independent events= where there is no correlation between each other\n",
        "\n",
        "A== rolling an even number\n",
        "\n",
        "{2,4,6}\n",
        "\n",
        "B = getting a head {H}\n",
        "\n",
        "outcome of one does not impact another one\n",
        "\n",
        "Tossing a coin  followed by a die\n",
        "\n",
        "{H1, H2, H3, H4, H5, H6,\n",
        "\n",
        "T1, T2, T3, T4, T5, T6}\n",
        "\n",
        "\n",
        "\n",
        "\n"
      ],
      "metadata": {
        "id": "CjHPVOA7imSD"
      }
    },
    {
      "cell_type": "markdown",
      "source": [
        "###Probability\n",
        "\n",
        "= outcome of event / outcome of sample sapce\n",
        "\n",
        "P(Getting even no.) = 3/ 6= 0.5\n",
        "\n",
        "P(getting 3 on a die toss0) = 1/6\n",
        "\n",
        "A={2,4,6}\n",
        "\n",
        "B= {1,2}\n",
        "\n",
        "P(A union B) = |{1,2,4,6}|/6 = 4/6\n",
        "\n",
        "\n",
        "Addition Rule:\n",
        "\n",
        "P(A union B) = P(A) + P(B) -  P(A intersection B)\n",
        "\n",
        "\n",
        "mutually exclusive event-->\n",
        "P(A union B) = P(A) + P(B)\n",
        "\n"
      ],
      "metadata": {
        "id": "j7CyTQpfmXcM"
      }
    },
    {
      "cell_type": "code",
      "source": [],
      "metadata": {
        "id": "PqT_iiH0fkQ7"
      },
      "execution_count": null,
      "outputs": []
    }
  ]
}