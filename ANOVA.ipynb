{
  "nbformat": 4,
  "nbformat_minor": 0,
  "metadata": {
    "colab": {
      "provenance": [],
      "authorship_tag": "ABX9TyMV8kMiHMJ1nM9Vg7VNPnj3",
      "include_colab_link": true
    },
    "kernelspec": {
      "name": "python3",
      "display_name": "Python 3"
    },
    "language_info": {
      "name": "python"
    }
  },
  "cells": [
    {
      "cell_type": "markdown",
      "metadata": {
        "id": "view-in-github",
        "colab_type": "text"
      },
      "source": [
        "<a href=\"https://colab.research.google.com/github/sr606/Python-Practice/blob/main/ANOVA.ipynb\" target=\"_parent\"><img src=\"https://colab.research.google.com/assets/colab-badge.svg\" alt=\"Open In Colab\"/></a>"
      ]
    },
    {
      "cell_type": "code",
      "execution_count": 2,
      "metadata": {
        "id": "F83dGVwTdQQl"
      },
      "outputs": [],
      "source": [
        "import numpy as np\n",
        "import pandas as pd\n",
        "import seaborn as sns\n",
        "import matplotlib.pyplot as plt"
      ]
    },
    {
      "cell_type": "code",
      "source": [
        "from scipy.stats import f_oneway # Numeric Vs categorical for many categories\n",
        "from scipy.stats import ttest_ind # Numeric Vs categorical\n",
        "\n",
        "from statsmodels.graphics.gofplots import qqplot"
      ],
      "metadata": {
        "id": "TbOFn1sUd_Pw"
      },
      "execution_count": 3,
      "outputs": []
    },
    {
      "cell_type": "code",
      "source": [],
      "metadata": {
        "id": "6gBNslNZd_Sm"
      },
      "execution_count": 3,
      "outputs": []
    },
    {
      "cell_type": "code",
      "source": [],
      "metadata": {
        "id": "M5ohdwdmd_Vn"
      },
      "execution_count": 3,
      "outputs": []
    },
    {
      "cell_type": "code",
      "source": [
        "a = [13, 8, 11, 12, 11]\n",
        "b = [15, 10, 16, 11, 13, 10]\n",
        "c = [5, 11, 9, 5]\n",
        "d = [8, 10, 6, 5, 7]"
      ],
      "metadata": {
        "id": "y-LF1s6Kd_ZR"
      },
      "execution_count": 4,
      "outputs": []
    },
    {
      "cell_type": "code",
      "source": [
        "# H0: All groups have the same mean\n",
        "# Ha: One or more groups have different mean\n",
        "f_stats, p_value = f_oneway(a, b, c, d)\n",
        "\n",
        "print(\"test statistic:\",f_stats)\n",
        "print(\"p_value:\",p_value)"
      ],
      "metadata": {
        "colab": {
          "base_uri": "https://localhost:8080/"
        },
        "id": "iv9YDNPJeeOu",
        "outputId": "875fe8c2-963e-4f76-f162-1ef2f07c6fbc"
      },
      "execution_count": 5,
      "outputs": [
        {
          "output_type": "stream",
          "name": "stdout",
          "text": [
            "test statistic: 6.324748040313554\n",
            "p_value: 0.0049302919205628576\n"
          ]
        }
      ]
    },
    {
      "cell_type": "code",
      "source": [
        "if p_value < 0.05:\n",
        "    print(\"Reject H0\")\n",
        "    print(\"Atleast one group have different mean\")\n",
        "else:\n",
        "    print(\"Fail to reject H0\")\n",
        "    print(\"All groups have same mean\")"
      ],
      "metadata": {
        "colab": {
          "base_uri": "https://localhost:8080/"
        },
        "id": "9ILM41AUfsC2",
        "outputId": "cdb5cd08-8dde-4cce-f56b-e885661927f0"
      },
      "execution_count": 6,
      "outputs": [
        {
          "output_type": "stream",
          "name": "stdout",
          "text": [
            "Reject H0\n",
            "Atleast one group have different mean\n"
          ]
        }
      ]
    },
    {
      "cell_type": "code",
      "source": [
        "one_star = [382, 391, 335, 368, 400, 372]\n",
        "two_star = [560, 343, 512, 329, 391, 367]\n",
        "three_star = [384, 458, 409, 309, 374, 459]\n",
        "four_star = [325, 390, 304, 240, 306, 169]\n",
        "five_star = [360, 298, 272, 368, 320, 326]"
      ],
      "metadata": {
        "id": "IQ7g-OjMjAJF"
      },
      "execution_count": 7,
      "outputs": []
    },
    {
      "cell_type": "code",
      "source": [
        "# H0: All groups have the same mean\n",
        "# Ha: One or more groups have different mean\n",
        "f_stats, p_value = f_oneway(one_star, two_star, three_star, four_star,five_star)\n",
        "\n",
        "print(\"test statistic:\",f_stats)\n",
        "print(\"p_value:\",p_value)"
      ],
      "metadata": {
        "colab": {
          "base_uri": "https://localhost:8080/"
        },
        "id": "DRAJfxHCjAMf",
        "outputId": "e754270c-7adf-483f-9dbe-d1c7bd314a11"
      },
      "execution_count": 8,
      "outputs": [
        {
          "output_type": "stream",
          "name": "stdout",
          "text": [
            "test statistic: 4.238644902556343\n",
            "p_value: 0.009362001936328837\n"
          ]
        }
      ]
    },
    {
      "cell_type": "code",
      "source": [
        "if p_value < 0.01:\n",
        "    print(\"Reject H0\")\n",
        "    print(\"Atleast one group have different mean\")\n",
        "else:\n",
        "    print(\"Fail to reject H0\")\n",
        "    print(\"All groups have same mean\")"
      ],
      "metadata": {
        "colab": {
          "base_uri": "https://localhost:8080/"
        },
        "id": "_ySvEhJbjE6w",
        "outputId": "4e9c1188-a1de-4b8d-913f-c2c897fafcb7"
      },
      "execution_count": 10,
      "outputs": [
        {
          "output_type": "stream",
          "name": "stdout",
          "text": [
            "Reject H0\n",
            "Atleast one group have different mean\n"
          ]
        }
      ]
    },
    {
      "cell_type": "code",
      "source": [
        "Brand_A = [19.60, 18.82, 19.00, 18.45, 19.79, 19.03, 17.89, 19.42]\n",
        "Brand_B = [21.10, 20.00, 20.43, 19.67, 18.99, 19.98, 20.14, 19.78]\n",
        "Brand_C = [10.31, 10.02, 9.41, 9.89, 10.05, 10.52, 11.02, 10.42]\n",
        "Brand_D = [17.02, 16.71, 17.78, 18.65, 15.98, 17.63, 17.00, 16.78, 16.92, 17.14]"
      ],
      "metadata": {
        "id": "vfPBis__jpKu"
      },
      "execution_count": 11,
      "outputs": []
    },
    {
      "cell_type": "code",
      "source": [
        "# H0: All groups have the same mean\n",
        "# Ha: One or more groups have different mean\n",
        "f_stats, p_value = f_oneway(Brand_A, Brand_B, Brand_C, Brand_D)\n",
        "\n",
        "print(\"test statistic:\",f_stats)\n",
        "print(\"p_value:\",p_value)"
      ],
      "metadata": {
        "colab": {
          "base_uri": "https://localhost:8080/"
        },
        "id": "BlfzlTNhjpOR",
        "outputId": "9af2ab38-deb8-400f-9191-8058037c4f68"
      },
      "execution_count": 12,
      "outputs": [
        {
          "output_type": "stream",
          "name": "stdout",
          "text": [
            "test statistic: 404.7865500650496\n",
            "p_value: 2.392149441499325e-24\n"
          ]
        }
      ]
    },
    {
      "cell_type": "code",
      "source": [
        "if p_value < 0.02:\n",
        "    print(\"Reject H0\")\n",
        "    print(\"Atleast one group have different mean\")\n",
        "else:\n",
        "    print(\"Fail to reject H0\")\n",
        "    print(\"All groups have same mean\")"
      ],
      "metadata": {
        "colab": {
          "base_uri": "https://localhost:8080/"
        },
        "id": "ynoyGYGOjpR1",
        "outputId": "927df686-488e-4766-bff0-c2a36a50017f"
      },
      "execution_count": 13,
      "outputs": [
        {
          "output_type": "stream",
          "name": "stdout",
          "text": [
            "Reject H0\n",
            "Atleast one group have different mean\n"
          ]
        }
      ]
    },
    {
      "cell_type": "code",
      "source": [
        "t_stat, pvalue = ttest_ind(Brand_A, Brand_B)  # (Sample 1, Sample 2)\n",
        "t_stat, pvalue"
      ],
      "metadata": {
        "colab": {
          "base_uri": "https://localhost:8080/"
        },
        "id": "N4CHxVcLjpVQ",
        "outputId": "0c7acbc6-f374-40a3-ae88-c959de485e9e"
      },
      "execution_count": 15,
      "outputs": [
        {
          "output_type": "execute_result",
          "data": {
            "text/plain": [
              "(-3.281024608464368, 0.005464761718691163)"
            ]
          },
          "metadata": {},
          "execution_count": 15
        }
      ]
    },
    {
      "cell_type": "code",
      "source": [
        "t_stat, pvalue = ttest_ind(Brand_B, Brand_C)  # (Sample 1, Sample 2)\n",
        "t_stat, pvalue"
      ],
      "metadata": {
        "colab": {
          "base_uri": "https://localhost:8080/"
        },
        "id": "FObXPuYmlLCr",
        "outputId": "ed515496-d9a5-4b3d-90f6-c52b059a6999"
      },
      "execution_count": 16,
      "outputs": [
        {
          "output_type": "execute_result",
          "data": {
            "text/plain": [
              "(35.80102299364571, 3.618464053986992e-15)"
            ]
          },
          "metadata": {},
          "execution_count": 16
        }
      ]
    },
    {
      "cell_type": "code",
      "source": [
        "t_stat, pvalue = ttest_ind(Brand_C, Brand_D)  # (Sample 1, Sample 2)\n",
        "t_stat, pvalue"
      ],
      "metadata": {
        "colab": {
          "base_uri": "https://localhost:8080/"
        },
        "id": "UY4k6BC9lR7N",
        "outputId": "0b0e1ae3-ec8a-4ebb-a268-abe1abbdd675"
      },
      "execution_count": 17,
      "outputs": [
        {
          "output_type": "execute_result",
          "data": {
            "text/plain": [
              "(-23.410707401229885, 8.33672049161488e-14)"
            ]
          },
          "metadata": {},
          "execution_count": 17
        }
      ]
    },
    {
      "cell_type": "code",
      "source": [
        "t_stat, pvalue = ttest_ind(Brand_D, Brand_A)  # (Sample 1, Sample 2)\n",
        "t_stat, pvalue"
      ],
      "metadata": {
        "colab": {
          "base_uri": "https://localhost:8080/"
        },
        "id": "P1UqBmsmlSp7",
        "outputId": "5ab71fa4-2b83-47b4-db05-d5ba242dae7f"
      },
      "execution_count": 18,
      "outputs": [
        {
          "output_type": "execute_result",
          "data": {
            "text/plain": [
              "(-5.702213789495044, 3.271164766368406e-05)"
            ]
          },
          "metadata": {},
          "execution_count": 18
        }
      ]
    },
    {
      "cell_type": "code",
      "source": [
        "from scipy.stats import ttest_ind"
      ],
      "metadata": {
        "id": "3XI6H3ncmidj"
      },
      "execution_count": 22,
      "outputs": []
    },
    {
      "cell_type": "code",
      "source": [
        "from scipy import stats\n",
        "\n",
        "def pairwise_ttest(data, alpha=0.05):\n",
        "    groups = list(data.keys())\n",
        "    n_groups = len(groups)\n",
        "\n",
        "    # Perform pairwise t-tests\n",
        "    for i in range(n_groups):\n",
        "        for j in range(i + 1, n_groups):  # Only compare pairs once (i < j)\n",
        "            group1 = groups[i]\n",
        "            group2 = groups[j]\n",
        "            ttest_result = stats.ttest_ind(data[group1], data[group2])\n",
        "\n",
        "            # Print the results\n",
        "            print(f\"Pairwise t-test: {group1} vs {group2}\")\n",
        "            print(f\"p-value: {ttest_result.pvalue:.4f}\")\n",
        "\n",
        "            # Check significance\n",
        "            if ttest_result.pvalue < alpha:\n",
        "                print(\"Result: Significant difference (reject null hypothesis)\")\n",
        "            else:\n",
        "                print(\"Result: No significant difference (fail to reject null hypothesis)\")\n",
        "            print(\"-\" * 50)\n",
        "\n",
        "# Example dataset\n",
        "data = {\n",
        "    \"Brand_A\": [12.5, 13.1, 12.9, 13.4, 12.8],\n",
        "    \"Brand_B\": [21.10, 20.00, 20.43, 19.67, 18.99, 19.98, 20.14, 19.78],\n",
        "    \"Brand_C\": [10.31, 10.02, 9.41, 9.89, 10.05, 10.52, 11.02, 10.42],\n",
        "    \"Brand_D\": [17.02, 16.71, 17.78, 18.65, 15.98, 17.63, 17.00, 16.78, 16.92, 17.14]\n",
        "}\n",
        "\n",
        "# Perform pairwise t-tests\n",
        "pairwise_ttest(data, alpha=0.02)\n"
      ],
      "metadata": {
        "colab": {
          "base_uri": "https://localhost:8080/"
        },
        "id": "MJUPjaX3l6l8",
        "outputId": "1b271ecc-0f60-4d9f-bf97-d1d73cc8b79e"
      },
      "execution_count": 24,
      "outputs": [
        {
          "output_type": "stream",
          "name": "stdout",
          "text": [
            "Pairwise t-test: Brand_A vs Brand_B\n",
            "p-value: 0.0000\n",
            "Result: Significant difference (reject null hypothesis)\n",
            "--------------------------------------------------\n",
            "Pairwise t-test: Brand_A vs Brand_C\n",
            "p-value: 0.0000\n",
            "Result: Significant difference (reject null hypothesis)\n",
            "--------------------------------------------------\n",
            "Pairwise t-test: Brand_A vs Brand_D\n",
            "p-value: 0.0000\n",
            "Result: Significant difference (reject null hypothesis)\n",
            "--------------------------------------------------\n",
            "Pairwise t-test: Brand_B vs Brand_C\n",
            "p-value: 0.0000\n",
            "Result: Significant difference (reject null hypothesis)\n",
            "--------------------------------------------------\n",
            "Pairwise t-test: Brand_B vs Brand_D\n",
            "p-value: 0.0000\n",
            "Result: Significant difference (reject null hypothesis)\n",
            "--------------------------------------------------\n",
            "Pairwise t-test: Brand_C vs Brand_D\n",
            "p-value: 0.0000\n",
            "Result: Significant difference (reject null hypothesis)\n",
            "--------------------------------------------------\n"
          ]
        }
      ]
    },
    {
      "cell_type": "code",
      "source": [
        "group_a_effects = [1.5, 1.8, 1.2, 1.6, 1.7]\n",
        "\n",
        "group_b_effects = [1.4, 1.9, 1.3, 1.5, 1.8]"
      ],
      "metadata": {
        "id": "A2dG3ZUPoZZE"
      },
      "execution_count": 25,
      "outputs": []
    },
    {
      "cell_type": "code",
      "source": [
        "# H0: All groups have the same mean\n",
        "# Ha: One or more groups have different mean\n",
        "f_stats, p_value = f_oneway(group_a_effects, group_b_effects)\n",
        "\n",
        "print(\"test statistic:\",f_stats)\n",
        "print(\"p_value:\",p_value)"
      ],
      "metadata": {
        "colab": {
          "base_uri": "https://localhost:8080/"
        },
        "id": "dX2vXHbdouMW",
        "outputId": "012469bd-4ea8-4451-dd4d-8cf78477d395"
      },
      "execution_count": 27,
      "outputs": [
        {
          "output_type": "stream",
          "name": "stdout",
          "text": [
            "test statistic: 0.01666666666666662\n",
            "p_value: 0.9004656894435094\n"
          ]
        }
      ]
    },
    {
      "cell_type": "code",
      "source": [
        "if p_value < 0.1:\n",
        "    print(\"Reject H0\")\n",
        "    print(\"Atleast one group have different mean\")\n",
        "else:\n",
        "    print(\"Fail to reject H0\")\n",
        "    print(\"All groups have same mean\")"
      ],
      "metadata": {
        "colab": {
          "base_uri": "https://localhost:8080/"
        },
        "id": "3WHVn30eo50R",
        "outputId": "c1c2b857-81c4-4c7a-80e3-a4ba35737073"
      },
      "execution_count": 28,
      "outputs": [
        {
          "output_type": "stream",
          "name": "stdout",
          "text": [
            "Fail to reject H0\n",
            "All groups have same mean\n"
          ]
        }
      ]
    },
    {
      "cell_type": "code",
      "source": [
        "from scipy.stats import levene\n",
        "stat,p_val=levene(group_a_effects,group_b_effects) #fail to reject variances are same\n",
        "print(stat)\n",
        "print(p_val)"
      ],
      "metadata": {
        "colab": {
          "base_uri": "https://localhost:8080/"
        },
        "id": "n4OPj9pUpkA6",
        "outputId": "524434c5-7e22-40a2-f72a-51a95636967a"
      },
      "execution_count": 29,
      "outputs": [
        {
          "output_type": "stream",
          "name": "stdout",
          "text": [
            "0.1666666666666667\n",
            "0.693799838016959\n"
          ]
        }
      ]
    },
    {
      "cell_type": "code",
      "source": [
        "if p_value < 0.1:\n",
        "    print(\"Reject H0\")\n",
        "    print(\"Atleast one group have different mean\")\n",
        "else:\n",
        "    print(\"Fail to reject H0\")\n",
        "    print(\"All groups have same mean\")"
      ],
      "metadata": {
        "colab": {
          "base_uri": "https://localhost:8080/"
        },
        "id": "ObqsbDjJpn0X",
        "outputId": "010b641f-bf2f-4e53-fe1f-88e557ec97d2"
      },
      "execution_count": 30,
      "outputs": [
        {
          "output_type": "stream",
          "name": "stdout",
          "text": [
            "Fail to reject H0\n",
            "All groups have same mean\n"
          ]
        }
      ]
    }
  ]
}