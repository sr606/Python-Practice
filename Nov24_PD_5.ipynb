{
  "nbformat": 4,
  "nbformat_minor": 0,
  "metadata": {
    "colab": {
      "provenance": [],
      "authorship_tag": "ABX9TyOq1UYJIrRcy69LmaSJxS3S",
      "include_colab_link": true
    },
    "kernelspec": {
      "name": "python3",
      "display_name": "Python 3"
    },
    "language_info": {
      "name": "python"
    }
  },
  "cells": [
    {
      "cell_type": "markdown",
      "metadata": {
        "id": "view-in-github",
        "colab_type": "text"
      },
      "source": [
        "<a href=\"https://colab.research.google.com/github/sr606/Python-Practice/blob/main/Nov24_PD_5.ipynb\" target=\"_parent\"><img src=\"https://colab.research.google.com/assets/colab-badge.svg\" alt=\"Open In Colab\"/></a>"
      ]
    },
    {
      "cell_type": "markdown",
      "source": [
        "\n",
        "\n",
        "*  Introduction\n",
        "*  Log Normal Distribution\n",
        "    Real L\n",
        "\n",
        "\n",
        "\n"
      ],
      "metadata": {
        "id": "R5ydK70OZXP6"
      }
    },
    {
      "cell_type": "markdown",
      "source": [
        "#**Log Normal Distribution**\n",
        "\n",
        "\n",
        "lognomal distribution is continuous probability distribution that models this type of right skewed data.\n",
        "\n"
      ],
      "metadata": {
        "id": "pCIVNLbYZsWF"
      }
    },
    {
      "cell_type": "markdown",
      "source": [
        "##What is skewness:\n",
        "\n",
        "Symmetrical Data (No skewness):\n",
        "\n",
        "\n",
        "Positive Skew (Right Skew ):\n",
        "\n",
        "\n",
        "\n",
        "Negative Skew(Left Skew):\n",
        "\n"
      ],
      "metadata": {
        "id": "xo5hyrVZaZjr"
      }
    },
    {
      "cell_type": "markdown",
      "source": [
        "###Why did we choose log?\n",
        "\n",
        "\n",
        "Symmetry:\n",
        "\n",
        "original data is right skewed with a long tail on right indicating occassional very long delivery times.\n",
        "\n",
        "the **logarithmic transformation** compresses larger values values more than smaller values.\n",
        "\n",
        "\n"
      ],
      "metadata": {
        "id": "D3qxxRxddU6R"
      }
    },
    {
      "cell_type": "markdown",
      "source": [
        "###key charasteristics of log - normal distribution\n",
        "\n",
        "**1. Positivity:**\n",
        "\n",
        "\n",
        "**2. Skewness:**\n",
        "\n",
        "\n",
        "**3. Multiplicative Processes:**"
      ],
      "metadata": {
        "id": "d419cPlyduts"
      }
    },
    {
      "cell_type": "markdown",
      "source": [
        "#**Poisson Distribution**\n",
        "\n",
        "\n"
      ],
      "metadata": {
        "id": "GIOmnEPUkptj"
      }
    },
    {
      "cell_type": "markdown",
      "source": [
        "**Discrete probability distribution** particularly useful when dealing with events that occur randomly and independently, but with a known average rate."
      ],
      "metadata": {
        "id": "N_73_z_jkv1N"
      }
    },
    {
      "cell_type": "markdown",
      "source": [],
      "metadata": {
        "id": "2IG1rY77k_ZI"
      }
    },
    {
      "cell_type": "code",
      "execution_count": null,
      "metadata": {
        "id": "DuMIQudfZPb9"
      },
      "outputs": [],
      "source": []
    }
  ]
}