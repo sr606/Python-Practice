{
  "nbformat": 4,
  "nbformat_minor": 0,
  "metadata": {
    "colab": {
      "provenance": [],
      "authorship_tag": "ABX9TyP2JGdMw3xzZW++7UEkURvd",
      "include_colab_link": true
    },
    "kernelspec": {
      "name": "python3",
      "display_name": "Python 3"
    },
    "language_info": {
      "name": "python"
    }
  },
  "cells": [
    {
      "cell_type": "markdown",
      "metadata": {
        "id": "view-in-github",
        "colab_type": "text"
      },
      "source": [
        "<a href=\"https://colab.research.google.com/github/sr606/Python-Practice/blob/main/ConditionalProbability%26_Bayes_Theorem.ipynb\" target=\"_parent\"><img src=\"https://colab.research.google.com/assets/colab-badge.svg\" alt=\"Open In Colab\"/></a>"
      ]
    },
    {
      "cell_type": "code",
      "execution_count": null,
      "metadata": {
        "id": "5xuSZgSPhw-p"
      },
      "outputs": [],
      "source": []
    },
    {
      "cell_type": "markdown",
      "source": [
        "P(A | B)\n",
        "\n",
        "A= Event whose probability we are trying to find\n",
        "\n",
        "B = Event that has already happened\n",
        "\n",
        "P(x3 = \"you\" | x1= \"How\" and x2 = \"are\")\n"
      ],
      "metadata": {
        "id": "lLHYadXvi7IA"
      }
    }
  ]
}