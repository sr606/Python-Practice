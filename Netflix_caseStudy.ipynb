{
  "nbformat": 4,
  "nbformat_minor": 0,
  "metadata": {
    "colab": {
      "provenance": [],
      "authorship_tag": "ABX9TyPrJPaYV2Sh6ZfsttiA/zOC",
      "include_colab_link": true
    },
    "kernelspec": {
      "name": "python3",
      "display_name": "Python 3"
    },
    "language_info": {
      "name": "python"
    }
  },
  "cells": [
    {
      "cell_type": "markdown",
      "metadata": {
        "id": "view-in-github",
        "colab_type": "text"
      },
      "source": [
        "<a href=\"https://colab.research.google.com/github/sr606/Python-Practice/blob/main/Netflix_caseStudy.ipynb\" target=\"_parent\"><img src=\"https://colab.research.google.com/assets/colab-badge.svg\" alt=\"Open In Colab\"/></a>"
      ]
    },
    {
      "cell_type": "markdown",
      "source": [
        "Data Cleaning -->  How to make the dataset ready to be consumed.\n",
        "\n",
        "\n",
        "Analysis, fomrat, txt to csv, etc\n",
        "\n",
        "\n",
        "Challenges==\n",
        "\n",
        "\n",
        "1.Missing values\n",
        "\n",
        "2.Date format\n",
        "\n",
        "3.Comma separated values(nested values)\n",
        "\n",
        "if commas are there we will not b able to separate them or group by them becoz of comma no unique values can be grouped\n",
        "\n",
        "4. duration"
      ],
      "metadata": {
        "id": "v4CnYx787jeJ"
      }
    },
    {
      "cell_type": "markdown",
      "source": [
        "step1 : split by comma\n",
        "\n",
        "\n",
        "step2 : melt or stack\n",
        "\n",
        "step3 : unnest every part\n",
        "\n",
        "title, cast -- a\n",
        "\n",
        "title, dirctor -- b\n",
        "\n",
        "title, country -- c\n",
        "\n",
        "step 4 : now neeed to merge...(a-b,a-b-c)\n",
        "\n",
        "\n",
        "step 5 : merge it back with remaining cols of the original DF"
      ],
      "metadata": {
        "id": "YFUANgsj9_c7"
      }
    },
    {
      "cell_type": "code",
      "execution_count": null,
      "metadata": {
        "id": "aS5KRXUg7i7o"
      },
      "outputs": [],
      "source": []
    }
  ]
}