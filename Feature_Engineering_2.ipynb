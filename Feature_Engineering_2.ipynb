{
  "nbformat": 4,
  "nbformat_minor": 0,
  "metadata": {
    "colab": {
      "provenance": [],
      "authorship_tag": "ABX9TyMMnIG8N+5t524QVOfKYWVI",
      "include_colab_link": true
    },
    "kernelspec": {
      "name": "python3",
      "display_name": "Python 3"
    },
    "language_info": {
      "name": "python"
    }
  },
  "cells": [
    {
      "cell_type": "markdown",
      "metadata": {
        "id": "view-in-github",
        "colab_type": "text"
      },
      "source": [
        "<a href=\"https://colab.research.google.com/github/sr606/Python-Practice/blob/main/Feature_Engineering_2.ipynb\" target=\"_parent\"><img src=\"https://colab.research.google.com/assets/colab-badge.svg\" alt=\"Open In Colab\"/></a>"
      ]
    },
    {
      "cell_type": "code",
      "execution_count": 2,
      "metadata": {
        "id": "V33M1T8GPZab"
      },
      "outputs": [],
      "source": [
        "import numpy as np\n",
        "import pandas as pd\n",
        "import matplotlib.pyplot as plt\n",
        "import seaborn as sns\n",
        "from scipy.stats import kstest\n",
        "\n",
        "import warnings\n",
        "warnings.filterwarnings('ignore')"
      ]
    },
    {
      "cell_type": "code",
      "source": [
        "a=np.array([0,1,2,3,4,5,10])\n",
        "q3=np.quantile(a,0.75)\n",
        "q1=np.quantile(a,0.25)\n",
        "IQR=q3-q1\n",
        "print(IQR)\n",
        "lowerlimit=q1-1.5*(IQR)\n",
        "upperlimit=q3+1.5*(IQR)\n",
        "print(lowerlimit,upperlimit)\n",
        "print('median:',np.median(a))"
      ],
      "metadata": {
        "colab": {
          "base_uri": "https://localhost:8080/"
        },
        "id": "FnZBGwzgPmD1",
        "outputId": "306add59-071d-44c3-bb93-c73b33d48e7f"
      },
      "execution_count": 3,
      "outputs": [
        {
          "output_type": "stream",
          "name": "stdout",
          "text": [
            "3.0\n",
            "-3.0 9.0\n",
            "median: 3.0\n"
          ]
        }
      ]
    },
    {
      "cell_type": "code",
      "source": [
        "90-14"
      ],
      "metadata": {
        "colab": {
          "base_uri": "https://localhost:8080/"
        },
        "id": "hhgNQY5MZJ8O",
        "outputId": "3cddff80-a71a-4e2b-eeef-f028c9475600"
      },
      "execution_count": 6,
      "outputs": [
        {
          "output_type": "execute_result",
          "data": {
            "text/plain": [
              "76"
            ]
          },
          "metadata": {},
          "execution_count": 6
        }
      ]
    }
  ]
}