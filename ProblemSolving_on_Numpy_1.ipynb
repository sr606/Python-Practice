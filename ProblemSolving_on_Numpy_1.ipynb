{
  "nbformat": 4,
  "nbformat_minor": 0,
  "metadata": {
    "colab": {
      "provenance": [],
      "authorship_tag": "ABX9TyORs3N2o7AIWqxtGHLlanep",
      "include_colab_link": true
    },
    "kernelspec": {
      "name": "python3",
      "display_name": "Python 3"
    },
    "language_info": {
      "name": "python"
    }
  },
  "cells": [
    {
      "cell_type": "markdown",
      "metadata": {
        "id": "view-in-github",
        "colab_type": "text"
      },
      "source": [
        "<a href=\"https://colab.research.google.com/github/sr606/Python-Practice/blob/main/ProblemSolving_on_Numpy_1.ipynb\" target=\"_parent\"><img src=\"https://colab.research.google.com/assets/colab-badge.svg\" alt=\"Open In Colab\"/></a>"
      ]
    },
    {
      "cell_type": "code",
      "execution_count": 1,
      "metadata": {
        "colab": {
          "base_uri": "https://localhost:8080/"
        },
        "id": "4thf5HNx6grC",
        "outputId": "ca46b419-0c0d-49c6-8302-f7d5defede04"
      },
      "outputs": [
        {
          "output_type": "stream",
          "name": "stdout",
          "text": [
            "     name profession  gender  age     review  rating\n",
            "0    John   Engineer    Male   28  Excellent     4.5\n",
            "1   Alice     Doctor  Female   35       Good     4.0\n",
            "2     Bob     Lawyer    Male   24    Average     3.0\n",
            "3     Eve     Artist  Female   29  Excellent     4.5\n",
            "4    Mike   Engineer    Male   23       Good     4.0\n",
            "5  Sophia     Doctor  Female   30    Average     3.5\n",
            "6   Chris     Lawyer    Male   26       Poor     2.0\n",
            "7   Laura     Artist  Female   31  Excellent     4.5\n"
          ]
        }
      ],
      "source": [
        "import pandas as pd\n",
        "\n",
        "# Sample DataFrame\n",
        "data = {\n",
        "    'name': ['John', 'Alice', 'Bob', 'Eve', 'Mike', 'Sophia', 'Chris', 'Laura'],\n",
        "    'profession': ['Engineer', 'Doctor', 'Lawyer', 'Artist', 'Engineer', 'Doctor', 'Lawyer', 'Artist'],\n",
        "    'gender': ['Male', 'Female', 'Male', 'Female', 'Male', 'Female', 'Male', 'Female'],\n",
        "    'age': [28, 35, 24, 29, 23, 30, 26, 31],\n",
        "    'review': ['Excellent', 'Good', 'Average', 'Excellent', 'Good', 'Average', 'Poor', 'Excellent'],\n",
        "    'rating': [4.5, 4.0, 3.0, 4.5, 4.0, 3.5, 2.0, 4.5]\n",
        "}\n",
        "\n",
        "df = pd.DataFrame(data)\n",
        "print(df)\n"
      ]
    },
    {
      "cell_type": "code",
      "source": [
        "def specific_customers(df):\n",
        "    ''' df is a dataframe with columns ['name', 'profession', 'gender', 'age', 'review', 'rating']\n",
        "        Output -> A series with required names is expected to be returned'''\n",
        "    # YOUR CODE GOES HERE\n",
        "\n",
        "    # Select male professionals\n",
        "    df_new = df[df['gender']== 'Male']\n",
        "    return df_new"
      ],
      "metadata": {
        "id": "jgitbGjB65Oh"
      },
      "execution_count": null,
      "outputs": []
    },
    {
      "cell_type": "code",
      "source": [
        "df_new = df[df['gender']== 'Male']\n",
        "df_new"
      ],
      "metadata": {
        "colab": {
          "base_uri": "https://localhost:8080/",
          "height": 175
        },
        "id": "V8VOx2N765Q5",
        "outputId": "37e9051c-1023-43e3-fd2d-660f835f341a"
      },
      "execution_count": null,
      "outputs": [
        {
          "output_type": "execute_result",
          "data": {
            "text/plain": [
              "    name profession gender  age     review  rating\n",
              "0   John   Engineer   Male   28  Excellent     4.5\n",
              "2    Bob     Lawyer   Male   24    Average     3.0\n",
              "4   Mike   Engineer   Male   23       Good     4.0\n",
              "6  Chris     Lawyer   Male   26       Poor     2.0"
            ],
            "text/html": [
              "\n",
              "  <div id=\"df-b4a34639-2945-4d02-be0c-15fbc48e4f33\" class=\"colab-df-container\">\n",
              "    <div>\n",
              "<style scoped>\n",
              "    .dataframe tbody tr th:only-of-type {\n",
              "        vertical-align: middle;\n",
              "    }\n",
              "\n",
              "    .dataframe tbody tr th {\n",
              "        vertical-align: top;\n",
              "    }\n",
              "\n",
              "    .dataframe thead th {\n",
              "        text-align: right;\n",
              "    }\n",
              "</style>\n",
              "<table border=\"1\" class=\"dataframe\">\n",
              "  <thead>\n",
              "    <tr style=\"text-align: right;\">\n",
              "      <th></th>\n",
              "      <th>name</th>\n",
              "      <th>profession</th>\n",
              "      <th>gender</th>\n",
              "      <th>age</th>\n",
              "      <th>review</th>\n",
              "      <th>rating</th>\n",
              "    </tr>\n",
              "  </thead>\n",
              "  <tbody>\n",
              "    <tr>\n",
              "      <th>0</th>\n",
              "      <td>John</td>\n",
              "      <td>Engineer</td>\n",
              "      <td>Male</td>\n",
              "      <td>28</td>\n",
              "      <td>Excellent</td>\n",
              "      <td>4.5</td>\n",
              "    </tr>\n",
              "    <tr>\n",
              "      <th>2</th>\n",
              "      <td>Bob</td>\n",
              "      <td>Lawyer</td>\n",
              "      <td>Male</td>\n",
              "      <td>24</td>\n",
              "      <td>Average</td>\n",
              "      <td>3.0</td>\n",
              "    </tr>\n",
              "    <tr>\n",
              "      <th>4</th>\n",
              "      <td>Mike</td>\n",
              "      <td>Engineer</td>\n",
              "      <td>Male</td>\n",
              "      <td>23</td>\n",
              "      <td>Good</td>\n",
              "      <td>4.0</td>\n",
              "    </tr>\n",
              "    <tr>\n",
              "      <th>6</th>\n",
              "      <td>Chris</td>\n",
              "      <td>Lawyer</td>\n",
              "      <td>Male</td>\n",
              "      <td>26</td>\n",
              "      <td>Poor</td>\n",
              "      <td>2.0</td>\n",
              "    </tr>\n",
              "  </tbody>\n",
              "</table>\n",
              "</div>\n",
              "    <div class=\"colab-df-buttons\">\n",
              "\n",
              "  <div class=\"colab-df-container\">\n",
              "    <button class=\"colab-df-convert\" onclick=\"convertToInteractive('df-b4a34639-2945-4d02-be0c-15fbc48e4f33')\"\n",
              "            title=\"Convert this dataframe to an interactive table.\"\n",
              "            style=\"display:none;\">\n",
              "\n",
              "  <svg xmlns=\"http://www.w3.org/2000/svg\" height=\"24px\" viewBox=\"0 -960 960 960\">\n",
              "    <path d=\"M120-120v-720h720v720H120Zm60-500h600v-160H180v160Zm220 220h160v-160H400v160Zm0 220h160v-160H400v160ZM180-400h160v-160H180v160Zm440 0h160v-160H620v160ZM180-180h160v-160H180v160Zm440 0h160v-160H620v160Z\"/>\n",
              "  </svg>\n",
              "    </button>\n",
              "\n",
              "  <style>\n",
              "    .colab-df-container {\n",
              "      display:flex;\n",
              "      gap: 12px;\n",
              "    }\n",
              "\n",
              "    .colab-df-convert {\n",
              "      background-color: #E8F0FE;\n",
              "      border: none;\n",
              "      border-radius: 50%;\n",
              "      cursor: pointer;\n",
              "      display: none;\n",
              "      fill: #1967D2;\n",
              "      height: 32px;\n",
              "      padding: 0 0 0 0;\n",
              "      width: 32px;\n",
              "    }\n",
              "\n",
              "    .colab-df-convert:hover {\n",
              "      background-color: #E2EBFA;\n",
              "      box-shadow: 0px 1px 2px rgba(60, 64, 67, 0.3), 0px 1px 3px 1px rgba(60, 64, 67, 0.15);\n",
              "      fill: #174EA6;\n",
              "    }\n",
              "\n",
              "    .colab-df-buttons div {\n",
              "      margin-bottom: 4px;\n",
              "    }\n",
              "\n",
              "    [theme=dark] .colab-df-convert {\n",
              "      background-color: #3B4455;\n",
              "      fill: #D2E3FC;\n",
              "    }\n",
              "\n",
              "    [theme=dark] .colab-df-convert:hover {\n",
              "      background-color: #434B5C;\n",
              "      box-shadow: 0px 1px 3px 1px rgba(0, 0, 0, 0.15);\n",
              "      filter: drop-shadow(0px 1px 2px rgba(0, 0, 0, 0.3));\n",
              "      fill: #FFFFFF;\n",
              "    }\n",
              "  </style>\n",
              "\n",
              "    <script>\n",
              "      const buttonEl =\n",
              "        document.querySelector('#df-b4a34639-2945-4d02-be0c-15fbc48e4f33 button.colab-df-convert');\n",
              "      buttonEl.style.display =\n",
              "        google.colab.kernel.accessAllowed ? 'block' : 'none';\n",
              "\n",
              "      async function convertToInteractive(key) {\n",
              "        const element = document.querySelector('#df-b4a34639-2945-4d02-be0c-15fbc48e4f33');\n",
              "        const dataTable =\n",
              "          await google.colab.kernel.invokeFunction('convertToInteractive',\n",
              "                                                    [key], {});\n",
              "        if (!dataTable) return;\n",
              "\n",
              "        const docLinkHtml = 'Like what you see? Visit the ' +\n",
              "          '<a target=\"_blank\" href=https://colab.research.google.com/notebooks/data_table.ipynb>data table notebook</a>'\n",
              "          + ' to learn more about interactive tables.';\n",
              "        element.innerHTML = '';\n",
              "        dataTable['output_type'] = 'display_data';\n",
              "        await google.colab.output.renderOutput(dataTable, element);\n",
              "        const docLink = document.createElement('div');\n",
              "        docLink.innerHTML = docLinkHtml;\n",
              "        element.appendChild(docLink);\n",
              "      }\n",
              "    </script>\n",
              "  </div>\n",
              "\n",
              "\n",
              "<div id=\"df-6d21dde6-ec60-452a-8cc5-3d25bbbb4d3b\">\n",
              "  <button class=\"colab-df-quickchart\" onclick=\"quickchart('df-6d21dde6-ec60-452a-8cc5-3d25bbbb4d3b')\"\n",
              "            title=\"Suggest charts\"\n",
              "            style=\"display:none;\">\n",
              "\n",
              "<svg xmlns=\"http://www.w3.org/2000/svg\" height=\"24px\"viewBox=\"0 0 24 24\"\n",
              "     width=\"24px\">\n",
              "    <g>\n",
              "        <path d=\"M19 3H5c-1.1 0-2 .9-2 2v14c0 1.1.9 2 2 2h14c1.1 0 2-.9 2-2V5c0-1.1-.9-2-2-2zM9 17H7v-7h2v7zm4 0h-2V7h2v10zm4 0h-2v-4h2v4z\"/>\n",
              "    </g>\n",
              "</svg>\n",
              "  </button>\n",
              "\n",
              "<style>\n",
              "  .colab-df-quickchart {\n",
              "      --bg-color: #E8F0FE;\n",
              "      --fill-color: #1967D2;\n",
              "      --hover-bg-color: #E2EBFA;\n",
              "      --hover-fill-color: #174EA6;\n",
              "      --disabled-fill-color: #AAA;\n",
              "      --disabled-bg-color: #DDD;\n",
              "  }\n",
              "\n",
              "  [theme=dark] .colab-df-quickchart {\n",
              "      --bg-color: #3B4455;\n",
              "      --fill-color: #D2E3FC;\n",
              "      --hover-bg-color: #434B5C;\n",
              "      --hover-fill-color: #FFFFFF;\n",
              "      --disabled-bg-color: #3B4455;\n",
              "      --disabled-fill-color: #666;\n",
              "  }\n",
              "\n",
              "  .colab-df-quickchart {\n",
              "    background-color: var(--bg-color);\n",
              "    border: none;\n",
              "    border-radius: 50%;\n",
              "    cursor: pointer;\n",
              "    display: none;\n",
              "    fill: var(--fill-color);\n",
              "    height: 32px;\n",
              "    padding: 0;\n",
              "    width: 32px;\n",
              "  }\n",
              "\n",
              "  .colab-df-quickchart:hover {\n",
              "    background-color: var(--hover-bg-color);\n",
              "    box-shadow: 0 1px 2px rgba(60, 64, 67, 0.3), 0 1px 3px 1px rgba(60, 64, 67, 0.15);\n",
              "    fill: var(--button-hover-fill-color);\n",
              "  }\n",
              "\n",
              "  .colab-df-quickchart-complete:disabled,\n",
              "  .colab-df-quickchart-complete:disabled:hover {\n",
              "    background-color: var(--disabled-bg-color);\n",
              "    fill: var(--disabled-fill-color);\n",
              "    box-shadow: none;\n",
              "  }\n",
              "\n",
              "  .colab-df-spinner {\n",
              "    border: 2px solid var(--fill-color);\n",
              "    border-color: transparent;\n",
              "    border-bottom-color: var(--fill-color);\n",
              "    animation:\n",
              "      spin 1s steps(1) infinite;\n",
              "  }\n",
              "\n",
              "  @keyframes spin {\n",
              "    0% {\n",
              "      border-color: transparent;\n",
              "      border-bottom-color: var(--fill-color);\n",
              "      border-left-color: var(--fill-color);\n",
              "    }\n",
              "    20% {\n",
              "      border-color: transparent;\n",
              "      border-left-color: var(--fill-color);\n",
              "      border-top-color: var(--fill-color);\n",
              "    }\n",
              "    30% {\n",
              "      border-color: transparent;\n",
              "      border-left-color: var(--fill-color);\n",
              "      border-top-color: var(--fill-color);\n",
              "      border-right-color: var(--fill-color);\n",
              "    }\n",
              "    40% {\n",
              "      border-color: transparent;\n",
              "      border-right-color: var(--fill-color);\n",
              "      border-top-color: var(--fill-color);\n",
              "    }\n",
              "    60% {\n",
              "      border-color: transparent;\n",
              "      border-right-color: var(--fill-color);\n",
              "    }\n",
              "    80% {\n",
              "      border-color: transparent;\n",
              "      border-right-color: var(--fill-color);\n",
              "      border-bottom-color: var(--fill-color);\n",
              "    }\n",
              "    90% {\n",
              "      border-color: transparent;\n",
              "      border-bottom-color: var(--fill-color);\n",
              "    }\n",
              "  }\n",
              "</style>\n",
              "\n",
              "  <script>\n",
              "    async function quickchart(key) {\n",
              "      const quickchartButtonEl =\n",
              "        document.querySelector('#' + key + ' button');\n",
              "      quickchartButtonEl.disabled = true;  // To prevent multiple clicks.\n",
              "      quickchartButtonEl.classList.add('colab-df-spinner');\n",
              "      try {\n",
              "        const charts = await google.colab.kernel.invokeFunction(\n",
              "            'suggestCharts', [key], {});\n",
              "      } catch (error) {\n",
              "        console.error('Error during call to suggestCharts:', error);\n",
              "      }\n",
              "      quickchartButtonEl.classList.remove('colab-df-spinner');\n",
              "      quickchartButtonEl.classList.add('colab-df-quickchart-complete');\n",
              "    }\n",
              "    (() => {\n",
              "      let quickchartButtonEl =\n",
              "        document.querySelector('#df-6d21dde6-ec60-452a-8cc5-3d25bbbb4d3b button');\n",
              "      quickchartButtonEl.style.display =\n",
              "        google.colab.kernel.accessAllowed ? 'block' : 'none';\n",
              "    })();\n",
              "  </script>\n",
              "</div>\n",
              "\n",
              "  <div id=\"id_a3b7182c-4bf1-46cf-9fac-6ecf46bf431e\">\n",
              "    <style>\n",
              "      .colab-df-generate {\n",
              "        background-color: #E8F0FE;\n",
              "        border: none;\n",
              "        border-radius: 50%;\n",
              "        cursor: pointer;\n",
              "        display: none;\n",
              "        fill: #1967D2;\n",
              "        height: 32px;\n",
              "        padding: 0 0 0 0;\n",
              "        width: 32px;\n",
              "      }\n",
              "\n",
              "      .colab-df-generate:hover {\n",
              "        background-color: #E2EBFA;\n",
              "        box-shadow: 0px 1px 2px rgba(60, 64, 67, 0.3), 0px 1px 3px 1px rgba(60, 64, 67, 0.15);\n",
              "        fill: #174EA6;\n",
              "      }\n",
              "\n",
              "      [theme=dark] .colab-df-generate {\n",
              "        background-color: #3B4455;\n",
              "        fill: #D2E3FC;\n",
              "      }\n",
              "\n",
              "      [theme=dark] .colab-df-generate:hover {\n",
              "        background-color: #434B5C;\n",
              "        box-shadow: 0px 1px 3px 1px rgba(0, 0, 0, 0.15);\n",
              "        filter: drop-shadow(0px 1px 2px rgba(0, 0, 0, 0.3));\n",
              "        fill: #FFFFFF;\n",
              "      }\n",
              "    </style>\n",
              "    <button class=\"colab-df-generate\" onclick=\"generateWithVariable('df_new')\"\n",
              "            title=\"Generate code using this dataframe.\"\n",
              "            style=\"display:none;\">\n",
              "\n",
              "  <svg xmlns=\"http://www.w3.org/2000/svg\" height=\"24px\"viewBox=\"0 0 24 24\"\n",
              "       width=\"24px\">\n",
              "    <path d=\"M7,19H8.4L18.45,9,17,7.55,7,17.6ZM5,21V16.75L18.45,3.32a2,2,0,0,1,2.83,0l1.4,1.43a1.91,1.91,0,0,1,.58,1.4,1.91,1.91,0,0,1-.58,1.4L9.25,21ZM18.45,9,17,7.55Zm-12,3A5.31,5.31,0,0,0,4.9,8.1,5.31,5.31,0,0,0,1,6.5,5.31,5.31,0,0,0,4.9,4.9,5.31,5.31,0,0,0,6.5,1,5.31,5.31,0,0,0,8.1,4.9,5.31,5.31,0,0,0,12,6.5,5.46,5.46,0,0,0,6.5,12Z\"/>\n",
              "  </svg>\n",
              "    </button>\n",
              "    <script>\n",
              "      (() => {\n",
              "      const buttonEl =\n",
              "        document.querySelector('#id_a3b7182c-4bf1-46cf-9fac-6ecf46bf431e button.colab-df-generate');\n",
              "      buttonEl.style.display =\n",
              "        google.colab.kernel.accessAllowed ? 'block' : 'none';\n",
              "\n",
              "      buttonEl.onclick = () => {\n",
              "        google.colab.notebook.generateWithVariable('df_new');\n",
              "      }\n",
              "      })();\n",
              "    </script>\n",
              "  </div>\n",
              "\n",
              "    </div>\n",
              "  </div>\n"
            ],
            "application/vnd.google.colaboratory.intrinsic+json": {
              "type": "dataframe",
              "variable_name": "df_new",
              "summary": "{\n  \"name\": \"df_new\",\n  \"rows\": 4,\n  \"fields\": [\n    {\n      \"column\": \"name\",\n      \"properties\": {\n        \"dtype\": \"string\",\n        \"num_unique_values\": 4,\n        \"samples\": [\n          \"Bob\",\n          \"Chris\",\n          \"John\"\n        ],\n        \"semantic_type\": \"\",\n        \"description\": \"\"\n      }\n    },\n    {\n      \"column\": \"profession\",\n      \"properties\": {\n        \"dtype\": \"string\",\n        \"num_unique_values\": 2,\n        \"samples\": [\n          \"Lawyer\",\n          \"Engineer\"\n        ],\n        \"semantic_type\": \"\",\n        \"description\": \"\"\n      }\n    },\n    {\n      \"column\": \"gender\",\n      \"properties\": {\n        \"dtype\": \"category\",\n        \"num_unique_values\": 1,\n        \"samples\": [\n          \"Male\"\n        ],\n        \"semantic_type\": \"\",\n        \"description\": \"\"\n      }\n    },\n    {\n      \"column\": \"age\",\n      \"properties\": {\n        \"dtype\": \"number\",\n        \"std\": 2,\n        \"min\": 23,\n        \"max\": 28,\n        \"num_unique_values\": 4,\n        \"samples\": [\n          24\n        ],\n        \"semantic_type\": \"\",\n        \"description\": \"\"\n      }\n    },\n    {\n      \"column\": \"review\",\n      \"properties\": {\n        \"dtype\": \"string\",\n        \"num_unique_values\": 4,\n        \"samples\": [\n          \"Average\"\n        ],\n        \"semantic_type\": \"\",\n        \"description\": \"\"\n      }\n    },\n    {\n      \"column\": \"rating\",\n      \"properties\": {\n        \"dtype\": \"number\",\n        \"std\": 1.1086778913041726,\n        \"min\": 2.0,\n        \"max\": 4.5,\n        \"num_unique_values\": 4,\n        \"samples\": [\n          3.0\n        ],\n        \"semantic_type\": \"\",\n        \"description\": \"\"\n      }\n    }\n  ]\n}"
            }
          },
          "metadata": {},
          "execution_count": 5
        }
      ]
    },
    {
      "cell_type": "code",
      "source": [
        "df_new = df[df['gender']== 'Male']\n",
        "df_new = df_new[(df_new['age'] >= 23) & (df_new['age'] <= 30)]\n",
        "df_new['name']"
      ],
      "metadata": {
        "colab": {
          "base_uri": "https://localhost:8080/",
          "height": 209
        },
        "id": "JVlfPvmY65Uf",
        "outputId": "627b0bff-4b9b-4408-f539-25bc55a8014b"
      },
      "execution_count": null,
      "outputs": [
        {
          "output_type": "execute_result",
          "data": {
            "text/plain": [
              "0     John\n",
              "2      Bob\n",
              "4     Mike\n",
              "6    Chris\n",
              "Name: name, dtype: object"
            ],
            "text/html": [
              "<div>\n",
              "<style scoped>\n",
              "    .dataframe tbody tr th:only-of-type {\n",
              "        vertical-align: middle;\n",
              "    }\n",
              "\n",
              "    .dataframe tbody tr th {\n",
              "        vertical-align: top;\n",
              "    }\n",
              "\n",
              "    .dataframe thead th {\n",
              "        text-align: right;\n",
              "    }\n",
              "</style>\n",
              "<table border=\"1\" class=\"dataframe\">\n",
              "  <thead>\n",
              "    <tr style=\"text-align: right;\">\n",
              "      <th></th>\n",
              "      <th>name</th>\n",
              "    </tr>\n",
              "  </thead>\n",
              "  <tbody>\n",
              "    <tr>\n",
              "      <th>0</th>\n",
              "      <td>John</td>\n",
              "    </tr>\n",
              "    <tr>\n",
              "      <th>2</th>\n",
              "      <td>Bob</td>\n",
              "    </tr>\n",
              "    <tr>\n",
              "      <th>4</th>\n",
              "      <td>Mike</td>\n",
              "    </tr>\n",
              "    <tr>\n",
              "      <th>6</th>\n",
              "      <td>Chris</td>\n",
              "    </tr>\n",
              "  </tbody>\n",
              "</table>\n",
              "</div><br><label><b>dtype:</b> object</label>"
            ]
          },
          "metadata": {},
          "execution_count": 12
        }
      ]
    },
    {
      "cell_type": "code",
      "source": [
        "import pandas as pd\n",
        "def specific_customers(df):\n",
        "    ''' df is a dataframe with columns ['name', 'profession', 'gender', 'age', 'review', 'rating']\n",
        "        Output -> A series with required names is expected to be returned'''\n",
        "    # YOUR CODE GOES HERE\n",
        "\n",
        "    # Select male professionals\n",
        "    #df_new = df['gender'] == 'male'\n",
        "\n",
        "    # Filter for age group 23-3\n",
        "    df_new = df.loc[(df['profession'] == 'Engineer') & (df['profession'] == 'Artist') & (df['rating'] > 3.0) & (df['rating'] <= 4.5)]\n",
        "    return df_new['name']"
      ],
      "metadata": {
        "id": "h4Mw7_jE9GI9"
      },
      "execution_count": null,
      "outputs": []
    },
    {
      "cell_type": "code",
      "source": [
        "specific_customers(df)"
      ],
      "metadata": {
        "colab": {
          "base_uri": "https://localhost:8080/",
          "height": 84
        },
        "id": "oRyxcVnH9GMB",
        "outputId": "ff269ba1-abf2-453b-c2fb-048309131af4"
      },
      "execution_count": null,
      "outputs": [
        {
          "output_type": "execute_result",
          "data": {
            "text/plain": [
              "Series([], Name: name, dtype: object)"
            ],
            "text/html": [
              "<div>\n",
              "<style scoped>\n",
              "    .dataframe tbody tr th:only-of-type {\n",
              "        vertical-align: middle;\n",
              "    }\n",
              "\n",
              "    .dataframe tbody tr th {\n",
              "        vertical-align: top;\n",
              "    }\n",
              "\n",
              "    .dataframe thead th {\n",
              "        text-align: right;\n",
              "    }\n",
              "</style>\n",
              "<table border=\"1\" class=\"dataframe\">\n",
              "  <thead>\n",
              "    <tr style=\"text-align: right;\">\n",
              "      <th></th>\n",
              "      <th>name</th>\n",
              "    </tr>\n",
              "  </thead>\n",
              "  <tbody>\n",
              "  </tbody>\n",
              "</table>\n",
              "</div><br><label><b>dtype:</b> object</label>"
            ]
          },
          "metadata": {},
          "execution_count": 14
        }
      ]
    },
    {
      "cell_type": "code",
      "source": [
        "df_new = df.loc[((df['profession'] == 'Engineer') | (df['profession'] == 'Artist')) & (df['rating'] > 3.0) & (df['rating'] <= 4.5)]\n",
        "df_new['name']"
      ],
      "metadata": {
        "colab": {
          "base_uri": "https://localhost:8080/",
          "height": 209
        },
        "id": "TmDrpfEB9GOr",
        "outputId": "963f6dcb-90d7-4ca1-f62b-a8348ccbb2ae"
      },
      "execution_count": null,
      "outputs": [
        {
          "output_type": "execute_result",
          "data": {
            "text/plain": [
              "0     John\n",
              "3      Eve\n",
              "4     Mike\n",
              "7    Laura\n",
              "Name: name, dtype: object"
            ],
            "text/html": [
              "<div>\n",
              "<style scoped>\n",
              "    .dataframe tbody tr th:only-of-type {\n",
              "        vertical-align: middle;\n",
              "    }\n",
              "\n",
              "    .dataframe tbody tr th {\n",
              "        vertical-align: top;\n",
              "    }\n",
              "\n",
              "    .dataframe thead th {\n",
              "        text-align: right;\n",
              "    }\n",
              "</style>\n",
              "<table border=\"1\" class=\"dataframe\">\n",
              "  <thead>\n",
              "    <tr style=\"text-align: right;\">\n",
              "      <th></th>\n",
              "      <th>name</th>\n",
              "    </tr>\n",
              "  </thead>\n",
              "  <tbody>\n",
              "    <tr>\n",
              "      <th>0</th>\n",
              "      <td>John</td>\n",
              "    </tr>\n",
              "    <tr>\n",
              "      <th>3</th>\n",
              "      <td>Eve</td>\n",
              "    </tr>\n",
              "    <tr>\n",
              "      <th>4</th>\n",
              "      <td>Mike</td>\n",
              "    </tr>\n",
              "    <tr>\n",
              "      <th>7</th>\n",
              "      <td>Laura</td>\n",
              "    </tr>\n",
              "  </tbody>\n",
              "</table>\n",
              "</div><br><label><b>dtype:</b> object</label>"
            ]
          },
          "metadata": {},
          "execution_count": 16
        }
      ]
    },
    {
      "cell_type": "markdown",
      "source": [
        "### Question-1\n",
        "\n",
        "Question:\n",
        "Create a function that generates two 1D NumPy arrays:\n",
        "- Array A: 1D array with 10 evenly spaced values between 0 and 1.\n",
        "- Array B: 1D array with values from 1 to 10.\n",
        "\n",
        "Perform the following operations:\n",
        "\n",
        "- Multiply A and B element-wise.\n",
        "- Round the result to 2 decimal places.\n",
        "- Create a new array C that contains only the elements from the result where - the rounded value is greater than 2.5.\n",
        "- Convert C to integer data type.\n",
        "- Return arrays A, B, and C, along with the data types of A and C."
      ],
      "metadata": {
        "id": "JLGk_eeKFKA5"
      }
    },
    {
      "cell_type": "code",
      "source": [
        "import numpy as np\n",
        "def array_operations():\n",
        "  A = np.linspace(0,1,10)\n",
        "  B = np.arange(1,11)\n",
        "#Multiply A and B element-wise.\n",
        "\n",
        "  product = A*B\n",
        "\n",
        "#Round the result to 2 decimal places.\n",
        "  C = np.round(product,2)\n",
        "\n",
        "# Create a new array C that contains only the elements from the result where - the rounded value is greater than 2.5.\n",
        "  C = C[C > 2.5]\n",
        "# 5. Convert C to integer data type.\n",
        "  C = C.astype(int)\n",
        "\n",
        "  # 6. Return arrays A, B, and C, along with the data types of A and C.\n",
        "\n",
        "  return A,B,C,A.dtype, C.dtype\n",
        "\n",
        "A, B, C, A_data_type, C_data_type = array_operations()\n",
        "\n",
        "print(f'A: {A}')\n",
        "print(f'B: {B}')\n",
        "print(f'C: {C}')\n",
        "print(f'A Data Type: {A_data_type}')\n",
        "print(f'C Data Type: {C_data_type}')\n"
      ],
      "metadata": {
        "colab": {
          "base_uri": "https://localhost:8080/"
        },
        "id": "jr6sb8oI9GSK",
        "outputId": "f3717c23-3fb9-4d30-859b-2103b1bffdf8"
      },
      "execution_count": null,
      "outputs": [
        {
          "output_type": "stream",
          "name": "stdout",
          "text": [
            "A: [0.         0.11111111 0.22222222 0.33333333 0.44444444 0.55555556\n",
            " 0.66666667 0.77777778 0.88888889 1.        ]\n",
            "B: [ 1  2  3  4  5  6  7  8  9 10]\n",
            "C: [ 3  4  6  8 10]\n",
            "A Data Type: float64\n",
            "C Data Type: int64\n"
          ]
        }
      ]
    },
    {
      "cell_type": "markdown",
      "source": [
        "### Question-2\n",
        "Create a function that performs the following tasks:\n",
        "\n",
        "1. Generate a 1D array 'A' with 20 evenly spaced values between -5 and 5.\n",
        "2. Create a 2D array 'B' by reshaping A into a 4x5 matrix.\n",
        "3. Round all elements in B to 1 decimal place.\n",
        "4. Create a mask for all positive elements in B.\n",
        "5. Replace all masked elements with their respective indices (use multi-dimensional indexing).\n",
        "6. Slice the resulting array to keep only the middle two rows.\n",
        "7. Convert the sliced array to float32 data type.\n",
        "\n",
        "Return the original 1D array A, the final sliced and modified 2D array, the shape of the final array, and the number of dimensions of the final array.|\n"
      ],
      "metadata": {
        "id": "pRX0Lb91IXQc"
      }
    },
    {
      "cell_type": "code",
      "source": [
        "A = np.linspace(-5,5,20)\n",
        "B = A.reshape(4,5)"
      ],
      "metadata": {
        "id": "yWu9FzqIGmXt"
      },
      "execution_count": null,
      "outputs": []
    },
    {
      "cell_type": "code",
      "source": [
        "A"
      ],
      "metadata": {
        "colab": {
          "base_uri": "https://localhost:8080/"
        },
        "id": "9V1l_Di6JFJM",
        "outputId": "3e8fbae7-fd65-4383-db34-feb1f859b452"
      },
      "execution_count": null,
      "outputs": [
        {
          "output_type": "execute_result",
          "data": {
            "text/plain": [
              "array([-5.        , -4.47368421, -3.94736842, -3.42105263, -2.89473684,\n",
              "       -2.36842105, -1.84210526, -1.31578947, -0.78947368, -0.26315789,\n",
              "        0.26315789,  0.78947368,  1.31578947,  1.84210526,  2.36842105,\n",
              "        2.89473684,  3.42105263,  3.94736842,  4.47368421,  5.        ])"
            ]
          },
          "metadata": {},
          "execution_count": 27
        }
      ]
    },
    {
      "cell_type": "code",
      "source": [
        "B"
      ],
      "metadata": {
        "colab": {
          "base_uri": "https://localhost:8080/"
        },
        "id": "eEjxANt1JFMD",
        "outputId": "6895471a-39e9-43ea-c6d3-4e26e2400945"
      },
      "execution_count": null,
      "outputs": [
        {
          "output_type": "execute_result",
          "data": {
            "text/plain": [
              "array([[-5.        , -4.47368421, -3.94736842, -3.42105263, -2.89473684],\n",
              "       [-2.36842105, -1.84210526, -1.31578947, -0.78947368, -0.26315789],\n",
              "       [ 0.26315789,  0.78947368,  1.31578947,  1.84210526,  2.36842105],\n",
              "       [ 2.89473684,  3.42105263,  3.94736842,  4.47368421,  5.        ]])"
            ]
          },
          "metadata": {},
          "execution_count": 28
        }
      ]
    },
    {
      "cell_type": "code",
      "source": [
        "B = np.round(B,1)\n",
        "\n",
        "B"
      ],
      "metadata": {
        "colab": {
          "base_uri": "https://localhost:8080/"
        },
        "id": "vb99EP9sJFPn",
        "outputId": "fa8155a7-2fa3-4531-a550-a0eda533eb8e"
      },
      "execution_count": null,
      "outputs": [
        {
          "output_type": "execute_result",
          "data": {
            "text/plain": [
              "array([[-5. , -4.5, -3.9, -3.4, -2.9],\n",
              "       [-2.4, -1.8, -1.3, -0.8, -0.3],\n",
              "       [ 0.3,  0.8,  1.3,  1.8,  2.4],\n",
              "       [ 2.9,  3.4,  3.9,  4.5,  5. ]])"
            ]
          },
          "metadata": {},
          "execution_count": 29
        }
      ]
    },
    {
      "cell_type": "code",
      "source": [
        "flatten_array = B.flatten()\n",
        "flatten_array"
      ],
      "metadata": {
        "colab": {
          "base_uri": "https://localhost:8080/"
        },
        "id": "N7lnriv4JFTA",
        "outputId": "b193172c-5b99-47f7-9f67-983c92719e58"
      },
      "execution_count": null,
      "outputs": [
        {
          "output_type": "execute_result",
          "data": {
            "text/plain": [
              "array([-5. , -4.5, -3.9, -3.4, -2.9, -2.4, -1.8, -1.3, -0.8, -0.3,  0.3,\n",
              "        0.8,  1.3,  1.8,  2.4,  2.9,  3.4,  3.9,  4.5,  5. ])"
            ]
          },
          "metadata": {},
          "execution_count": 30
        }
      ]
    },
    {
      "cell_type": "code",
      "source": [
        "index_array = np.arange(0, len(flatten_array))\n",
        "index_array"
      ],
      "metadata": {
        "colab": {
          "base_uri": "https://localhost:8080/"
        },
        "id": "gLjgUXeqKWG7",
        "outputId": "862e8623-0c4e-4be3-a64e-2e3ffa429572"
      },
      "execution_count": null,
      "outputs": [
        {
          "output_type": "execute_result",
          "data": {
            "text/plain": [
              "array([ 0,  1,  2,  3,  4,  5,  6,  7,  8,  9, 10, 11, 12, 13, 14, 15, 16,\n",
              "       17, 18, 19])"
            ]
          },
          "metadata": {},
          "execution_count": 37
        }
      ]
    },
    {
      "cell_type": "code",
      "source": [
        "mask = flatten_array > 0\n",
        "mask"
      ],
      "metadata": {
        "colab": {
          "base_uri": "https://localhost:8080/"
        },
        "id": "qchGlGb3KWSu",
        "outputId": "2e13004f-4a3f-46b9-de9c-aa0aa4add205"
      },
      "execution_count": null,
      "outputs": [
        {
          "output_type": "execute_result",
          "data": {
            "text/plain": [
              "array([False, False, False, False, False, False, False, False, False,\n",
              "       False,  True,  True,  True,  True,  True,  True,  True,  True,\n",
              "        True,  True])"
            ]
          },
          "metadata": {},
          "execution_count": 38
        }
      ]
    },
    {
      "cell_type": "code",
      "source": [
        "index_array = np.arange(0, len(flatten_array))[mask]\n",
        "index_array"
      ],
      "metadata": {
        "colab": {
          "base_uri": "https://localhost:8080/"
        },
        "id": "pURJ6WVGK1pa",
        "outputId": "36508a31-c4ff-4e4c-e9dd-989d4a4a13ab"
      },
      "execution_count": null,
      "outputs": [
        {
          "output_type": "execute_result",
          "data": {
            "text/plain": [
              "array([10, 11, 12, 13, 14, 15, 16, 17, 18, 19])"
            ]
          },
          "metadata": {},
          "execution_count": 35
        }
      ]
    },
    {
      "cell_type": "code",
      "source": [
        "index_array_2D = index_array.reshape(B.shape)\n",
        "index_array_2D"
      ],
      "metadata": {
        "colab": {
          "base_uri": "https://localhost:8080/"
        },
        "id": "eXKh_lMoLCjr",
        "outputId": "487d6910-e460-478e-9c89-874678ded3b3"
      },
      "execution_count": null,
      "outputs": [
        {
          "output_type": "execute_result",
          "data": {
            "text/plain": [
              "array([[ 0,  1,  2,  3,  4],\n",
              "       [ 5,  6,  7,  8,  9],\n",
              "       [10, 11, 12, 13, 14],\n",
              "       [15, 16, 17, 18, 19]])"
            ]
          },
          "metadata": {},
          "execution_count": 39
        }
      ]
    },
    {
      "cell_type": "code",
      "source": [
        "mask_2D = mask.reshape(B.shape)\n",
        "B[mask_2D] = index_array_2D[mask_2D]\n",
        "B"
      ],
      "metadata": {
        "colab": {
          "base_uri": "https://localhost:8080/"
        },
        "id": "W4_4_tMnLk4A",
        "outputId": "74871c2a-177b-42ee-c508-82c2d9274bc3"
      },
      "execution_count": null,
      "outputs": [
        {
          "output_type": "execute_result",
          "data": {
            "text/plain": [
              "array([[-5. , -4.5, -3.9, -3.4, -2.9],\n",
              "       [-2.4, -1.8, -1.3, -0.8, -0.3],\n",
              "       [10. , 11. , 12. , 13. , 14. ],\n",
              "       [15. , 16. , 17. , 18. , 19. ]])"
            ]
          },
          "metadata": {},
          "execution_count": 46
        }
      ]
    },
    {
      "cell_type": "code",
      "source": [
        "def array_manipulation_2():\n",
        "  #Generate a 1D array 'A' with 20 evenly spaced values between -5 and 5.\n",
        "  A = np.linspace(-5,5,20)\n",
        "  #Create a 2D array 'B' by reshaping A into a 4x5 matrix.\n",
        "  B = A.reshape(4,5)\n",
        "  #Round all elements in B to 1 decimal place.\n",
        "  B = np.round(B,1)\n",
        "  #Create a mask for all positive elements in B.\n",
        "  mask = B > 0\n",
        "  #Replace all masked elements with their respective indices (use multi-dimensional indexing).\n",
        "  B[mask] = np.arange(0, len(B.flatten())).reshape(B.shape)[mask]\n",
        "  #Slice the resulting array to keep only the middle two rows.\n",
        "  B_sliced = B[1:3, :]\n",
        "  #Convert the sliced array to float32 data type.\n",
        "  B_float = B_sliced.astype(float)\n",
        "\n",
        "  return A,B_float, B_float.shape, B_float.ndim\n",
        "\n",
        "A, B_float, B_float_shape, B_float_dimensions = array_manipulation_2()\n",
        "\n",
        "\n",
        "print(f'A: {A}')\n",
        "print(f'B_float: {B_float}')\n",
        "print(f'B float shape : {B_float_shape}')\n",
        "print(f'B float dimensions : {B_float_dimensions}')"
      ],
      "metadata": {
        "colab": {
          "base_uri": "https://localhost:8080/"
        },
        "id": "bZJEal1RNkIb",
        "outputId": "5b00bbe1-00b6-4762-ead9-9f1100fd1ca9"
      },
      "execution_count": null,
      "outputs": [
        {
          "output_type": "stream",
          "name": "stdout",
          "text": [
            "A: [-5.         -4.47368421 -3.94736842 -3.42105263 -2.89473684 -2.36842105\n",
            " -1.84210526 -1.31578947 -0.78947368 -0.26315789  0.26315789  0.78947368\n",
            "  1.31578947  1.84210526  2.36842105  2.89473684  3.42105263  3.94736842\n",
            "  4.47368421  5.        ]\n",
            "B_float: [[-2.4 -1.8 -1.3 -0.8 -0.3]\n",
            " [10.  11.  12.  13.  14. ]]\n",
            "B float shape : (2, 5)\n",
            "B float dimensions : 2\n"
          ]
        }
      ]
    },
    {
      "cell_type": "markdown",
      "source": [
        "### Question-3\n",
        "\n",
        "\n",
        "Question:\n",
        "Create a function that performs the following operations:\n",
        "\n",
        "1. Generate a 1D array 'A' with values from 0 to 24.\n",
        "2. Create a 2D array 'B' to convert A into a 5x5 matrix (use nested lists).\n",
        "3. Create a mask for elements in B that are multiples of 3.\n",
        "4. Use the mask to replace these elements with -1.\n",
        "5. Slice the array to keep only the 2nd and 4th columns.\n",
        "6. Round all elements in the resulting array to the nearest integer.\n",
        "7. Convert the array to float32 data type.\n",
        "\n",
        "Return the original 1D array A, the final modified 2D array, the shape of the final array, and the number of dimensions of the final array."
      ],
      "metadata": {
        "id": "L98cHMm1QLmi"
      }
    },
    {
      "cell_type": "code",
      "source": [
        "import numpy as np\n",
        "def array_operations():\n",
        "  #enerate a 1D array 'A' with values from 0 to 24.\n",
        "  A = np.arange(0,25)\n",
        "\n",
        "  # 2. Create a 2D array 'B' to convert A into a 5x5 matrix (use nested lists).\n",
        "  B = np.array([A[i: i+5].tolist() for i in range(0,25,5)])\n",
        "\n",
        "  # 3. Create a mask for elements in B that are multiples of 3.\n",
        "  mask = (B % 3 == 0)\n",
        "\n",
        "  # 4. Use the mask to replace these elements with -1.\n",
        "  B[mask]  = -1\n",
        "\n",
        "  # 5. Slice the array to keep only the 2nd and 4th columns\n",
        "  B_sliced = B[:, 1:3]\n",
        "\n",
        "  # 6. Round all elements in the resulting array to the nearest integer.\n",
        "\n",
        "  B_round = np.round(B_sliced)\n",
        "  B_round = B_round.astype(float)\n",
        "\n",
        "\n",
        "  return A, B_round, B_round.shape, B_round.ndim\n",
        "\n",
        "\n",
        "A,B_float, B_float.shape, B_float_dimensions = array_operations()\n",
        "print(f' A: {A}\\n')\n",
        "print(f' B: {B_float}\\n')\n",
        "print(f'B shape {B_float.shape}\\n')\n",
        "print(f'B Dimensions: {B_float_dimensions}')\n",
        "\n"
      ],
      "metadata": {
        "id": "mtXbkabsQKaC",
        "outputId": "2499850a-e930-437d-aa2a-49e1409ff684",
        "colab": {
          "base_uri": "https://localhost:8080/"
        }
      },
      "execution_count": 6,
      "outputs": [
        {
          "output_type": "stream",
          "name": "stdout",
          "text": [
            " A: [ 0  1  2  3  4  5  6  7  8  9 10 11 12 13 14 15 16 17 18 19 20 21 22 23\n",
            " 24]\n",
            "\n",
            " B: [[ 1.  2.]\n",
            " [-1.  7.]\n",
            " [11. -1.]\n",
            " [16. 17.]\n",
            " [-1. 22.]]\n",
            "\n",
            "B shape (5, 2)\n",
            "\n",
            "B Dimensions: 2\n"
          ]
        }
      ]
    },
    {
      "cell_type": "code",
      "source": [],
      "metadata": {
        "id": "0XJAIyrzS5gT"
      },
      "execution_count": null,
      "outputs": []
    }
  ]
}