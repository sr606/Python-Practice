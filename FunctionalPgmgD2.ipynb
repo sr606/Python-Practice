{
  "nbformat": 4,
  "nbformat_minor": 0,
  "metadata": {
    "colab": {
      "provenance": [],
      "authorship_tag": "ABX9TyPc02h77CIBCCEXUB0P/SWV",
      "include_colab_link": true
    },
    "kernelspec": {
      "name": "python3",
      "display_name": "Python 3"
    },
    "language_info": {
      "name": "python"
    }
  },
  "cells": [
    {
      "cell_type": "markdown",
      "metadata": {
        "id": "view-in-github",
        "colab_type": "text"
      },
      "source": [
        "<a href=\"https://colab.research.google.com/github/sr606/Python-Practice/blob/main/FunctionalPgmgD2.ipynb\" target=\"_parent\"><img src=\"https://colab.research.google.com/assets/colab-badge.svg\" alt=\"Open In Colab\"/></a>"
      ]
    },
    {
      "cell_type": "markdown",
      "source": [
        "Whenever we perform mutation on any obj we loose previous data"
      ],
      "metadata": {
        "id": "IpjeHiFsiMck"
      }
    },
    {
      "cell_type": "markdown",
      "source": [
        "#Maps"
      ],
      "metadata": {
        "id": "wl-HH0ZJiVd8"
      }
    },
    {
      "cell_type": "code",
      "execution_count": 1,
      "metadata": {
        "colab": {
          "base_uri": "https://localhost:8080/"
        },
        "id": "KoWeEchwLxsL",
        "outputId": "a4784461-d986-401d-99be-87929a504b74"
      },
      "outputs": [
        {
          "output_type": "execute_result",
          "data": {
            "text/plain": [
              "<map at 0x7810cdba3df0>"
            ]
          },
          "metadata": {},
          "execution_count": 1
        }
      ],
      "source": [
        "a = [1,2,4,7]\n",
        "\n",
        "def square(x):\n",
        "  return x*x\n",
        "\n",
        "map_obj = map(square,a)\n",
        "map_obj"
      ]
    },
    {
      "cell_type": "code",
      "source": [
        "list(map_obj)"
      ],
      "metadata": {
        "colab": {
          "base_uri": "https://localhost:8080/"
        },
        "id": "hBwDkTXbpWk0",
        "outputId": "8d1a82d6-06e4-490b-872e-6268efb4c3fe"
      },
      "execution_count": 2,
      "outputs": [
        {
          "output_type": "execute_result",
          "data": {
            "text/plain": [
              "[1, 4, 16, 49]"
            ]
          },
          "metadata": {},
          "execution_count": 2
        }
      ]
    },
    {
      "cell_type": "code",
      "source": [
        "list(map(lambda x:x*x, [1,2,4,7]))"
      ],
      "metadata": {
        "colab": {
          "base_uri": "https://localhost:8080/"
        },
        "id": "G5A7qkhQpWn6",
        "outputId": "9e5e8b76-864c-43d4-ff5d-bcfc2267d8aa"
      },
      "execution_count": 3,
      "outputs": [
        {
          "output_type": "execute_result",
          "data": {
            "text/plain": [
              "[1, 4, 16, 49]"
            ]
          },
          "metadata": {},
          "execution_count": 3
        }
      ]
    },
    {
      "cell_type": "code",
      "source": [
        "list(map(lambda x:x * x,[i for i in range(6)]))"
      ],
      "metadata": {
        "colab": {
          "base_uri": "https://localhost:8080/"
        },
        "id": "ZQlcd1gppWrS",
        "outputId": "1f057bf5-efe7-4c80-8efc-b5a00af5f19c"
      },
      "execution_count": 5,
      "outputs": [
        {
          "output_type": "execute_result",
          "data": {
            "text/plain": [
              "[0, 1, 4, 9, 16, 25]"
            ]
          },
          "metadata": {},
          "execution_count": 5
        }
      ]
    },
    {
      "cell_type": "code",
      "source": [
        "# problem\n",
        "#h < 150 = S\n",
        "#h  >= 150 and h < 180 = M\n",
        "# h >= 180 -> L\n",
        "heights = [144, 167, 189, 170, 190, 150, 165, 178, 200, 130]\n",
        "#o/p = [S, M, L , M,...]"
      ],
      "metadata": {
        "id": "4HQXfbNUpWt4"
      },
      "execution_count": 7,
      "outputs": []
    },
    {
      "cell_type": "code",
      "source": [
        "def size_logic(h):\n",
        "  if h < 150:\n",
        "    return 'S'\n",
        "\n",
        "  elif h >= 150 and h < 180:\n",
        "    return 'M'\n",
        "\n",
        "  else:\n",
        "    return 'L'\n",
        "\n",
        "list(map(size_logic, heights))"
      ],
      "metadata": {
        "colab": {
          "base_uri": "https://localhost:8080/"
        },
        "id": "k62vD5jwpWxK",
        "outputId": "035df5f9-4452-452e-97ff-7b1c2fb1537a"
      },
      "execution_count": 8,
      "outputs": [
        {
          "output_type": "execute_result",
          "data": {
            "text/plain": [
              "['S', 'M', 'L', 'M', 'L', 'M', 'M', 'M', 'L', 'S']"
            ]
          },
          "metadata": {},
          "execution_count": 8
        }
      ]
    },
    {
      "cell_type": "code",
      "source": [
        "list(map(lambda h: 'S' if h < 150 else 'M' if h >= 150 and h <180 else 'L' , heights))"
      ],
      "metadata": {
        "colab": {
          "base_uri": "https://localhost:8080/"
        },
        "id": "Tt8a6J7HqwyH",
        "outputId": "595411d8-982d-4fb8-fe7b-0a35223eb353"
      },
      "execution_count": 9,
      "outputs": [
        {
          "output_type": "execute_result",
          "data": {
            "text/plain": [
              "['S', 'M', 'L', 'M', 'L', 'M', 'M', 'M', 'L', 'S']"
            ]
          },
          "metadata": {},
          "execution_count": 9
        }
      ]
    },
    {
      "cell_type": "code",
      "source": [
        "#passing two iterables to Map\n",
        "a = [1,0,0,1,0,1]\n",
        "b = [1,1,0,0,1,1]\n",
        "\n",
        "list(map(lambda x,y : x==y ,a,b))"
      ],
      "metadata": {
        "colab": {
          "base_uri": "https://localhost:8080/"
        },
        "id": "wBGJukEBqw1c",
        "outputId": "476a6d7e-1f59-4123-92d0-51c8789eacd2"
      },
      "execution_count": 12,
      "outputs": [
        {
          "output_type": "execute_result",
          "data": {
            "text/plain": [
              "[True, False, True, False, False, True]"
            ]
          },
          "metadata": {},
          "execution_count": 12
        }
      ]
    },
    {
      "cell_type": "code",
      "source": [
        "#how many elements match\n",
        "sum(list(map(lambda x,y : x==y,a,b)))"
      ],
      "metadata": {
        "colab": {
          "base_uri": "https://localhost:8080/"
        },
        "id": "iYiJ8bxiqw3R",
        "outputId": "860dfabe-00e5-4a05-ef2f-277cf265a577"
      },
      "execution_count": 13,
      "outputs": [
        {
          "output_type": "execute_result",
          "data": {
            "text/plain": [
              "3"
            ]
          },
          "metadata": {},
          "execution_count": 13
        }
      ]
    },
    {
      "cell_type": "code",
      "source": [
        "#problem -- > add two elemnets\n",
        "a = [1,2,3]\n",
        "b = [12,-2,4]\n",
        "\n",
        "list(map(lambda x,y : x+y, a,b))"
      ],
      "metadata": {
        "colab": {
          "base_uri": "https://localhost:8080/"
        },
        "id": "OFzwKreHqw54",
        "outputId": "1260a4af-c502-4824-ac6b-c008c2e5cd0f"
      },
      "execution_count": 14,
      "outputs": [
        {
          "output_type": "execute_result",
          "data": {
            "text/plain": [
              "[13, 0, 7]"
            ]
          },
          "metadata": {},
          "execution_count": 14
        }
      ]
    },
    {
      "cell_type": "markdown",
      "source": [
        "#Filter"
      ],
      "metadata": {
        "id": "rFGhPwVEsMr1"
      }
    },
    {
      "cell_type": "code",
      "source": [
        "#filter out all the even elements\n",
        "a = [1,2,5,8,4]\n",
        "\n",
        "#filter(conditional function, iterable)\n",
        "filter(lambda x: x%2 == 0, a)"
      ],
      "metadata": {
        "colab": {
          "base_uri": "https://localhost:8080/"
        },
        "id": "uakCYvmVqw8U",
        "outputId": "0f5997fd-cbd9-4099-f5dd-d7b02559318d"
      },
      "execution_count": 10,
      "outputs": [
        {
          "output_type": "execute_result",
          "data": {
            "text/plain": [
              "<filter at 0x7b2c8e8b6a10>"
            ]
          },
          "metadata": {},
          "execution_count": 10
        }
      ]
    },
    {
      "cell_type": "code",
      "source": [
        "list(filter(lambda x: x%2==0, a))"
      ],
      "metadata": {
        "colab": {
          "base_uri": "https://localhost:8080/"
        },
        "id": "zxT1mfz8oPSK",
        "outputId": "7e1f69f7-bbe6-4f5e-85ed-9ccfac558920"
      },
      "execution_count": 11,
      "outputs": [
        {
          "output_type": "execute_result",
          "data": {
            "text/plain": [
              "[2, 8, 4]"
            ]
          },
          "metadata": {},
          "execution_count": 11
        }
      ]
    },
    {
      "cell_type": "code",
      "source": [
        "list(map(lambda x: x% 2 == 0, a))"
      ],
      "metadata": {
        "colab": {
          "base_uri": "https://localhost:8080/"
        },
        "id": "NHubBdZ4qw-m",
        "outputId": "85b80d32-0429-4dad-bcee-13606c534234"
      },
      "execution_count": 12,
      "outputs": [
        {
          "output_type": "execute_result",
          "data": {
            "text/plain": [
              "[False, True, False, True, True]"
            ]
          },
          "metadata": {},
          "execution_count": 12
        }
      ]
    },
    {
      "cell_type": "code",
      "source": [
        "#problem\n",
        "a = [1,2,14,35,22,65]\n",
        "#filter out all elements between 10 and 60\n",
        "\n",
        "list(filter(lambda x: 10 < x < 60, a))"
      ],
      "metadata": {
        "colab": {
          "base_uri": "https://localhost:8080/"
        },
        "id": "WA7Jn_RAqxAt",
        "outputId": "58ca7a1f-96d7-4fa1-b9f2-d328f5c18747"
      },
      "execution_count": 13,
      "outputs": [
        {
          "output_type": "execute_result",
          "data": {
            "text/plain": [
              "[14, 35, 22]"
            ]
          },
          "metadata": {},
          "execution_count": 13
        }
      ]
    },
    {
      "cell_type": "markdown",
      "source": [
        "#Zip"
      ],
      "metadata": {
        "id": "xybgZoVrqva1"
      }
    },
    {
      "cell_type": "code",
      "source": [
        "a = [1,2,3]\n",
        "b = [\"a\",\"b\",\"c\"]\n",
        "#output: [(1, \"a\"),(2,\"b\"),(3,\"c\")]\n",
        "zip_obj = zip(a,b)\n",
        "zip_obj"
      ],
      "metadata": {
        "colab": {
          "base_uri": "https://localhost:8080/"
        },
        "id": "wyJN4MEVqxDM",
        "outputId": "4e721597-b5ca-4bb5-f7b9-c6a5bfdb6ed4"
      },
      "execution_count": 14,
      "outputs": [
        {
          "output_type": "execute_result",
          "data": {
            "text/plain": [
              "<zip at 0x7b2c598c5080>"
            ]
          },
          "metadata": {},
          "execution_count": 14
        }
      ]
    },
    {
      "cell_type": "code",
      "source": [
        "list(zip_obj)"
      ],
      "metadata": {
        "colab": {
          "base_uri": "https://localhost:8080/"
        },
        "id": "naziK1hlqxE4",
        "outputId": "288e77ce-c14d-4809-8fa6-ee75bab884b3"
      },
      "execution_count": 15,
      "outputs": [
        {
          "output_type": "execute_result",
          "data": {
            "text/plain": [
              "[(1, 'a'), (2, 'b'), (3, 'c')]"
            ]
          },
          "metadata": {},
          "execution_count": 15
        }
      ]
    },
    {
      "cell_type": "code",
      "source": [
        "dict(zip_obj)"
      ],
      "metadata": {
        "colab": {
          "base_uri": "https://localhost:8080/"
        },
        "id": "zljO1cwksAan",
        "outputId": "d7a98f90-4eb4-4433-a025-663ffbe990ec"
      },
      "execution_count": 16,
      "outputs": [
        {
          "output_type": "execute_result",
          "data": {
            "text/plain": [
              "{}"
            ]
          },
          "metadata": {},
          "execution_count": 16
        }
      ]
    },
    {
      "cell_type": "code",
      "source": [
        "list(zip_obj)"
      ],
      "metadata": {
        "colab": {
          "base_uri": "https://localhost:8080/"
        },
        "id": "ZHcHt0GhsAeG",
        "outputId": "606c7615-3eb5-4031-bf7f-9880cef7d6e8"
      },
      "execution_count": 17,
      "outputs": [
        {
          "output_type": "execute_result",
          "data": {
            "text/plain": [
              "[]"
            ]
          },
          "metadata": {},
          "execution_count": 17
        }
      ]
    },
    {
      "cell_type": "code",
      "source": [
        "a = [1,2,3]\n",
        "b = [\"a\",\"b\",\"c\"]\n",
        "zip_obj = zip(a,b)\n",
        "dict(zip_obj)"
      ],
      "metadata": {
        "colab": {
          "base_uri": "https://localhost:8080/"
        },
        "id": "qev1RVeJsAg9",
        "outputId": "88e89a3d-4067-4e07-9f57-479cf54a3217"
      },
      "execution_count": 19,
      "outputs": [
        {
          "output_type": "execute_result",
          "data": {
            "text/plain": [
              "{1: 'a', 2: 'b', 3: 'c'}"
            ]
          },
          "metadata": {},
          "execution_count": 19
        }
      ]
    },
    {
      "cell_type": "code",
      "source": [
        "a = [1,2,3]\n",
        "b = [\"a\",\"b\",\"c\"]\n",
        "c = [True, False,False]\n",
        "list(zip(a,b,c))"
      ],
      "metadata": {
        "colab": {
          "base_uri": "https://localhost:8080/"
        },
        "id": "MNdYSxFCsAj7",
        "outputId": "e5d23e2d-8297-4dde-b6e3-f7370e17422a"
      },
      "execution_count": 20,
      "outputs": [
        {
          "output_type": "execute_result",
          "data": {
            "text/plain": [
              "[(1, 'a', True), (2, 'b', False), (3, 'c', False)]"
            ]
          },
          "metadata": {},
          "execution_count": 20
        }
      ]
    },
    {
      "cell_type": "code",
      "source": [
        "a = [1,2,3]\n",
        "b = [\"a\",\"b\",\"c\"]\n",
        "c = [True, False,False]\n",
        "dict(zip(a,b,c))"
      ],
      "metadata": {
        "colab": {
          "base_uri": "https://localhost:8080/",
          "height": 176
        },
        "id": "i754XiW-sAms",
        "outputId": "6c22949c-222c-4c74-f44a-6d56971150f0"
      },
      "execution_count": 21,
      "outputs": [
        {
          "output_type": "error",
          "ename": "ValueError",
          "evalue": "dictionary update sequence element #0 has length 3; 2 is required",
          "traceback": [
            "\u001b[0;31m---------------------------------------------------------------------------\u001b[0m",
            "\u001b[0;31mValueError\u001b[0m                                Traceback (most recent call last)",
            "\u001b[0;32m<ipython-input-21-b490e6e7ee28>\u001b[0m in \u001b[0;36m<cell line: 4>\u001b[0;34m()\u001b[0m\n\u001b[1;32m      2\u001b[0m \u001b[0mb\u001b[0m \u001b[0;34m=\u001b[0m \u001b[0;34m[\u001b[0m\u001b[0;34m\"a\"\u001b[0m\u001b[0;34m,\u001b[0m\u001b[0;34m\"b\"\u001b[0m\u001b[0;34m,\u001b[0m\u001b[0;34m\"c\"\u001b[0m\u001b[0;34m]\u001b[0m\u001b[0;34m\u001b[0m\u001b[0;34m\u001b[0m\u001b[0m\n\u001b[1;32m      3\u001b[0m \u001b[0mc\u001b[0m \u001b[0;34m=\u001b[0m \u001b[0;34m[\u001b[0m\u001b[0;32mTrue\u001b[0m\u001b[0;34m,\u001b[0m \u001b[0;32mFalse\u001b[0m\u001b[0;34m,\u001b[0m\u001b[0;32mFalse\u001b[0m\u001b[0;34m]\u001b[0m\u001b[0;34m\u001b[0m\u001b[0;34m\u001b[0m\u001b[0m\n\u001b[0;32m----> 4\u001b[0;31m \u001b[0mdict\u001b[0m\u001b[0;34m(\u001b[0m\u001b[0mzip\u001b[0m\u001b[0;34m(\u001b[0m\u001b[0ma\u001b[0m\u001b[0;34m,\u001b[0m\u001b[0mb\u001b[0m\u001b[0;34m,\u001b[0m\u001b[0mc\u001b[0m\u001b[0;34m)\u001b[0m\u001b[0;34m)\u001b[0m\u001b[0;34m\u001b[0m\u001b[0;34m\u001b[0m\u001b[0m\n\u001b[0m",
            "\u001b[0;31mValueError\u001b[0m: dictionary update sequence element #0 has length 3; 2 is required"
          ]
        }
      ]
    },
    {
      "cell_type": "markdown",
      "source": [
        "#Enumerate"
      ],
      "metadata": {
        "id": "oJWseNiItGoZ"
      }
    },
    {
      "cell_type": "code",
      "source": [
        "a = [\"hello\",\"hi\",\"howdie\"]\n",
        "list(enumerate(a))"
      ],
      "metadata": {
        "colab": {
          "base_uri": "https://localhost:8080/"
        },
        "id": "wqN5t4R6sApx",
        "outputId": "59c221b2-906d-4d11-ee60-6c58112609c3"
      },
      "execution_count": 23,
      "outputs": [
        {
          "output_type": "execute_result",
          "data": {
            "text/plain": [
              "[(0, 'hello'), (1, 'hi'), (2, 'howdie')]"
            ]
          },
          "metadata": {},
          "execution_count": 23
        }
      ]
    },
    {
      "cell_type": "code",
      "source": [
        "list(enumerate(a,3))"
      ],
      "metadata": {
        "colab": {
          "base_uri": "https://localhost:8080/"
        },
        "id": "knDQjxwGsAtO",
        "outputId": "4ce1c936-ce64-4bb8-c1d8-f561408cba4a"
      },
      "execution_count": 24,
      "outputs": [
        {
          "output_type": "execute_result",
          "data": {
            "text/plain": [
              "[(3, 'hello'), (4, 'hi'), (5, 'howdie')]"
            ]
          },
          "metadata": {},
          "execution_count": 24
        }
      ]
    },
    {
      "cell_type": "markdown",
      "source": [
        "#Reduce"
      ],
      "metadata": {
        "id": "y1KnAAyZtt2P"
      }
    },
    {
      "cell_type": "code",
      "source": [
        "from functools import reduce"
      ],
      "metadata": {
        "id": "MRE6lIRSqxIR"
      },
      "execution_count": 25,
      "outputs": []
    },
    {
      "cell_type": "code",
      "source": [
        "a = [1,2,3,4,5]\n",
        "reduce(lambda x,y : x+y, a)"
      ],
      "metadata": {
        "colab": {
          "base_uri": "https://localhost:8080/"
        },
        "id": "g9elvDY7uG0M",
        "outputId": "70486767-404b-4894-ea76-6576b22c4ea1"
      },
      "execution_count": 26,
      "outputs": [
        {
          "output_type": "execute_result",
          "data": {
            "text/plain": [
              "15"
            ]
          },
          "metadata": {},
          "execution_count": 26
        }
      ]
    },
    {
      "cell_type": "code",
      "source": [
        "a = [1,7,3,4,9,2]\n",
        "reduce(lambda x,y : x if x>y else y, a)"
      ],
      "metadata": {
        "colab": {
          "base_uri": "https://localhost:8080/"
        },
        "id": "sMiEQUOKuG3A",
        "outputId": "e3069bca-1849-46be-cc07-3cef7644d546"
      },
      "execution_count": 27,
      "outputs": [
        {
          "output_type": "execute_result",
          "data": {
            "text/plain": [
              "9"
            ]
          },
          "metadata": {},
          "execution_count": 27
        }
      ]
    },
    {
      "cell_type": "code",
      "source": [
        "#we want that reduce starts with initial value of 100 i.e. x_initial = 100\n",
        "\n",
        "a = [1,2,3,4,5]\n",
        "reduce(lambda x, y : x+y, a, 100) # a = 100,[1,2,3,4,5]"
      ],
      "metadata": {
        "colab": {
          "base_uri": "https://localhost:8080/"
        },
        "id": "gVF6dYImuG5j",
        "outputId": "9401b37c-bf9b-44d3-c05d-98a9d0c62ce2"
      },
      "execution_count": 28,
      "outputs": [
        {
          "output_type": "execute_result",
          "data": {
            "text/plain": [
              "115"
            ]
          },
          "metadata": {},
          "execution_count": 28
        }
      ]
    },
    {
      "cell_type": "markdown",
      "source": [
        "#Args and Kwargs"
      ],
      "metadata": {
        "id": "VpaaQet2xzmS"
      }
    },
    {
      "cell_type": "code",
      "source": [
        "def add_num(x,y):\n",
        "  return x+y"
      ],
      "metadata": {
        "id": "1HIgObN0uG8m"
      },
      "execution_count": 29,
      "outputs": []
    },
    {
      "cell_type": "code",
      "source": [
        "add_num(1,2)"
      ],
      "metadata": {
        "colab": {
          "base_uri": "https://localhost:8080/"
        },
        "id": "Fo7BKo9EuG_O",
        "outputId": "a10364e6-9388-4260-8e82-c4d98a4e1824"
      },
      "execution_count": 30,
      "outputs": [
        {
          "output_type": "execute_result",
          "data": {
            "text/plain": [
              "3"
            ]
          },
          "metadata": {},
          "execution_count": 30
        }
      ]
    },
    {
      "cell_type": "code",
      "source": [
        "add_num(1,2,3)"
      ],
      "metadata": {
        "colab": {
          "base_uri": "https://localhost:8080/",
          "height": 141
        },
        "id": "v1aZCBkFuHC0",
        "outputId": "56d7663e-8a16-4f07-9023-6b3120cdc307"
      },
      "execution_count": 31,
      "outputs": [
        {
          "output_type": "error",
          "ename": "TypeError",
          "evalue": "add_num() takes 2 positional arguments but 3 were given",
          "traceback": [
            "\u001b[0;31m---------------------------------------------------------------------------\u001b[0m",
            "\u001b[0;31mTypeError\u001b[0m                                 Traceback (most recent call last)",
            "\u001b[0;32m<ipython-input-31-c387241f72ee>\u001b[0m in \u001b[0;36m<cell line: 1>\u001b[0;34m()\u001b[0m\n\u001b[0;32m----> 1\u001b[0;31m \u001b[0madd_num\u001b[0m\u001b[0;34m(\u001b[0m\u001b[0;36m1\u001b[0m\u001b[0;34m,\u001b[0m\u001b[0;36m2\u001b[0m\u001b[0;34m,\u001b[0m\u001b[0;36m3\u001b[0m\u001b[0;34m)\u001b[0m\u001b[0;34m\u001b[0m\u001b[0;34m\u001b[0m\u001b[0m\n\u001b[0m",
            "\u001b[0;31mTypeError\u001b[0m: add_num() takes 2 positional arguments but 3 were given"
          ]
        }
      ]
    },
    {
      "cell_type": "code",
      "source": [
        "add_num(1,2,3,4)"
      ],
      "metadata": {
        "colab": {
          "base_uri": "https://localhost:8080/",
          "height": 141
        },
        "id": "3NTrgpQ9yCUc",
        "outputId": "dce1a4b5-f596-41cd-c411-a0ce5b43f290"
      },
      "execution_count": 32,
      "outputs": [
        {
          "output_type": "error",
          "ename": "TypeError",
          "evalue": "add_num() takes 2 positional arguments but 4 were given",
          "traceback": [
            "\u001b[0;31m---------------------------------------------------------------------------\u001b[0m",
            "\u001b[0;31mTypeError\u001b[0m                                 Traceback (most recent call last)",
            "\u001b[0;32m<ipython-input-32-8b258a5655dd>\u001b[0m in \u001b[0;36m<cell line: 1>\u001b[0;34m()\u001b[0m\n\u001b[0;32m----> 1\u001b[0;31m \u001b[0madd_num\u001b[0m\u001b[0;34m(\u001b[0m\u001b[0;36m1\u001b[0m\u001b[0;34m,\u001b[0m\u001b[0;36m2\u001b[0m\u001b[0;34m,\u001b[0m\u001b[0;36m3\u001b[0m\u001b[0;34m,\u001b[0m\u001b[0;36m4\u001b[0m\u001b[0;34m)\u001b[0m\u001b[0;34m\u001b[0m\u001b[0;34m\u001b[0m\u001b[0m\n\u001b[0m",
            "\u001b[0;31mTypeError\u001b[0m: add_num() takes 2 positional arguments but 4 were given"
          ]
        }
      ]
    },
    {
      "cell_type": "code",
      "source": [
        "#using arbitratry arguments -- > args\n",
        "def add_num(x,y,*args):\n",
        "  print(x)\n",
        "  print(y)\n",
        "  print(args)\n",
        "  print(type(args))"
      ],
      "metadata": {
        "id": "Au6-fctbyCXE"
      },
      "execution_count": 33,
      "outputs": []
    },
    {
      "cell_type": "code",
      "source": [
        "add_num(1,2,3,4,5)"
      ],
      "metadata": {
        "colab": {
          "base_uri": "https://localhost:8080/"
        },
        "id": "_c3_ctO_yCZu",
        "outputId": "aefb25b7-289b-4093-c30f-5398902fda98"
      },
      "execution_count": 34,
      "outputs": [
        {
          "output_type": "stream",
          "name": "stdout",
          "text": [
            "1\n",
            "2\n",
            "(3, 4, 5)\n",
            "<class 'tuple'>\n"
          ]
        }
      ]
    },
    {
      "cell_type": "code",
      "source": [
        "def add_num(x,y,*args):\n",
        "  result = x+y\n",
        "  print(\"arbitrary args:\",args)\n",
        "  for i in args:\n",
        "    result += sum(args)\n",
        "  return result"
      ],
      "metadata": {
        "id": "bcI0zRO7yCc_"
      },
      "execution_count": 37,
      "outputs": []
    },
    {
      "cell_type": "code",
      "source": [
        "add_num(1,2)"
      ],
      "metadata": {
        "colab": {
          "base_uri": "https://localhost:8080/"
        },
        "id": "nquwWGGty2xN",
        "outputId": "aa021d7e-f17a-45c1-da1d-e6edcd5267eb"
      },
      "execution_count": 38,
      "outputs": [
        {
          "output_type": "stream",
          "name": "stdout",
          "text": [
            "arbitrary args: ()\n"
          ]
        },
        {
          "output_type": "execute_result",
          "data": {
            "text/plain": [
              "3"
            ]
          },
          "metadata": {},
          "execution_count": 38
        }
      ]
    },
    {
      "cell_type": "code",
      "source": [
        "add_num(1,2,3,4)"
      ],
      "metadata": {
        "colab": {
          "base_uri": "https://localhost:8080/"
        },
        "id": "elLS3mrNy2zk",
        "outputId": "587136ce-925e-4ce9-ea2a-c136ebca27af"
      },
      "execution_count": 40,
      "outputs": [
        {
          "output_type": "stream",
          "name": "stdout",
          "text": [
            "arbitrary args: (3, 4)\n"
          ]
        },
        {
          "output_type": "execute_result",
          "data": {
            "text/plain": [
              "17"
            ]
          },
          "metadata": {},
          "execution_count": 40
        }
      ]
    },
    {
      "cell_type": "code",
      "source": [
        "#using arbitrary keyword arguments\n",
        "def create_student(name,age,gender):\n",
        "  student = {\"name\": name,\n",
        "             \"age\": age,\n",
        "             \"gender\":gender}\n",
        "\n",
        "  return student"
      ],
      "metadata": {
        "id": "vtz-zWO7y22P"
      },
      "execution_count": 9,
      "outputs": []
    },
    {
      "cell_type": "code",
      "source": [
        "create_student(\"shraddha\",25,\"F\")"
      ],
      "metadata": {
        "colab": {
          "base_uri": "https://localhost:8080/"
        },
        "id": "-_0U4mQTy24I",
        "outputId": "90c2337d-a83b-4981-ac13-cd76679840a5"
      },
      "execution_count": 10,
      "outputs": [
        {
          "output_type": "execute_result",
          "data": {
            "text/plain": [
              "{'name': 'shraddha', 'age': 25, 'gender': 'F'}"
            ]
          },
          "metadata": {},
          "execution_count": 10
        }
      ]
    },
    {
      "cell_type": "code",
      "source": [
        "create_student(\"shraddha\",25,\"F\",hobby=\"Chess\",fav_color = \"Red\")"
      ],
      "metadata": {
        "colab": {
          "base_uri": "https://localhost:8080/",
          "height": 141
        },
        "id": "7Xv_65A2y27v",
        "outputId": "adf55349-f1c0-46e0-a42f-1f5a8e31a277"
      },
      "execution_count": 11,
      "outputs": [
        {
          "output_type": "error",
          "ename": "TypeError",
          "evalue": "create_student() got an unexpected keyword argument 'hobby'",
          "traceback": [
            "\u001b[0;31m---------------------------------------------------------------------------\u001b[0m",
            "\u001b[0;31mTypeError\u001b[0m                                 Traceback (most recent call last)",
            "\u001b[0;32m<ipython-input-11-618bde24a7ba>\u001b[0m in \u001b[0;36m<cell line: 1>\u001b[0;34m()\u001b[0m\n\u001b[0;32m----> 1\u001b[0;31m \u001b[0mcreate_student\u001b[0m\u001b[0;34m(\u001b[0m\u001b[0;34m\"shraddha\"\u001b[0m\u001b[0;34m,\u001b[0m\u001b[0;36m25\u001b[0m\u001b[0;34m,\u001b[0m\u001b[0;34m\"F\"\u001b[0m\u001b[0;34m,\u001b[0m\u001b[0mhobby\u001b[0m\u001b[0;34m=\u001b[0m\u001b[0;34m\"Chess\"\u001b[0m\u001b[0;34m,\u001b[0m\u001b[0mfav_color\u001b[0m \u001b[0;34m=\u001b[0m \u001b[0;34m\"Red\"\u001b[0m\u001b[0;34m)\u001b[0m\u001b[0;34m\u001b[0m\u001b[0;34m\u001b[0m\u001b[0m\n\u001b[0m",
            "\u001b[0;31mTypeError\u001b[0m: create_student() got an unexpected keyword argument 'hobby'"
          ]
        }
      ]
    },
    {
      "cell_type": "code",
      "source": [
        "def create_student(name,age,gender,**kwargs):\n",
        "  print(name)\n",
        "  print(age)\n",
        "  print(gender)\n",
        "  print(kwargs)\n",
        "  print(type(kwargs))"
      ],
      "metadata": {
        "id": "ToKKnvOAeB_c"
      },
      "execution_count": 12,
      "outputs": []
    },
    {
      "cell_type": "code",
      "source": [
        "create_student(\"shraddha\",25,\"F\",hobby = \"Chess\",fav_color = 'Red')"
      ],
      "metadata": {
        "colab": {
          "base_uri": "https://localhost:8080/"
        },
        "id": "ME6MwfOVeCB_",
        "outputId": "ea7a37b7-9310-4329-f213-cf04deb3e099"
      },
      "execution_count": 13,
      "outputs": [
        {
          "output_type": "stream",
          "name": "stdout",
          "text": [
            "shraddha\n",
            "25\n",
            "F\n",
            "{'hobby': 'Chess', 'fav_color': 'Red'}\n",
            "<class 'dict'>\n"
          ]
        }
      ]
    },
    {
      "cell_type": "code",
      "source": [
        "def create_student(name,age,gender,**extra_info):\n",
        "  student = {\"name\": name,\n",
        "             \"age\": age,\n",
        "             \"gender\": gender}\n",
        "\n",
        "  if extra_info:\n",
        "    student.update(extra_info)\n",
        "  return student"
      ],
      "metadata": {
        "id": "R4wZ5Bx3eCEY"
      },
      "execution_count": 14,
      "outputs": []
    },
    {
      "cell_type": "code",
      "source": [
        "create_student(\"Shraddha\",25,\"F\",hobby = \"Dance\", fav_color = \"Black\")"
      ],
      "metadata": {
        "colab": {
          "base_uri": "https://localhost:8080/"
        },
        "id": "dDua6hvOeCH6",
        "outputId": "8e367d79-a18a-4269-9cf4-985d2688a12f"
      },
      "execution_count": 15,
      "outputs": [
        {
          "output_type": "execute_result",
          "data": {
            "text/plain": [
              "{'name': 'Shraddha',\n",
              " 'age': 25,\n",
              " 'gender': 'F',\n",
              " 'hobby': 'Dance',\n",
              " 'fav_color': 'Black'}"
            ]
          },
          "metadata": {},
          "execution_count": 15
        }
      ]
    },
    {
      "cell_type": "code",
      "source": [
        "create_student(\"Shraddha\",25,\"F\",hobby = \"Dance\", fav_color = \"Black\", subjects = [\"Data Science\",\"SQL\"])"
      ],
      "metadata": {
        "colab": {
          "base_uri": "https://localhost:8080/"
        },
        "id": "nsdkojIofQ-k",
        "outputId": "b9a29688-425a-4502-a9e8-28c2d41e1ed0"
      },
      "execution_count": 16,
      "outputs": [
        {
          "output_type": "execute_result",
          "data": {
            "text/plain": [
              "{'name': 'Shraddha',\n",
              " 'age': 25,\n",
              " 'gender': 'F',\n",
              " 'hobby': 'Dance',\n",
              " 'fav_color': 'Black',\n",
              " 'subjects': ['Data Science', 'SQL']}"
            ]
          },
          "metadata": {},
          "execution_count": 16
        }
      ]
    },
    {
      "cell_type": "code",
      "source": [
        "#Problem\n",
        "def random(x,y,*args,**kwargs):\n",
        "  print(x)\n",
        "  print(y)\n",
        "  print(kwargs)\n"
      ],
      "metadata": {
        "id": "HMlThtjyfRBL"
      },
      "execution_count": 19,
      "outputs": []
    },
    {
      "cell_type": "code",
      "source": [
        "random(1,2,4,\"a\",u= 10, v = 20)"
      ],
      "metadata": {
        "colab": {
          "base_uri": "https://localhost:8080/"
        },
        "id": "ZecipU2VfREI",
        "outputId": "126b3b2f-aedc-45a5-a25b-c7afbc8ad541"
      },
      "execution_count": 20,
      "outputs": [
        {
          "output_type": "stream",
          "name": "stdout",
          "text": [
            "1\n",
            "2\n",
            "{'u': 10, 'v': 20}\n"
          ]
        }
      ]
    },
    {
      "cell_type": "code",
      "source": [
        "random(1,2,3,\"a\", u = 10, v = 20, 100,12)"
      ],
      "metadata": {
        "colab": {
          "base_uri": "https://localhost:8080/",
          "height": 106
        },
        "id": "O0XUCiiZfRHj",
        "outputId": "9b501a2a-6b85-4f07-b65b-7d7f61105a4a"
      },
      "execution_count": 21,
      "outputs": [
        {
          "output_type": "error",
          "ename": "SyntaxError",
          "evalue": "positional argument follows keyword argument (<ipython-input-21-00ae14ee4c5f>, line 1)",
          "traceback": [
            "\u001b[0;36m  File \u001b[0;32m\"<ipython-input-21-00ae14ee4c5f>\"\u001b[0;36m, line \u001b[0;32m1\u001b[0m\n\u001b[0;31m    random(1,2,3,\"a\", u = 10, v = 20, 100,12)\u001b[0m\n\u001b[0m                                            ^\u001b[0m\n\u001b[0;31mSyntaxError\u001b[0m\u001b[0;31m:\u001b[0m positional argument follows keyword argument\n"
          ]
        }
      ]
    },
    {
      "cell_type": "code",
      "source": [
        "#order od passing arguments\n",
        "#possitional -- > args -- > Keyworded Arguments -- > Kwargs\n",
        "#* : arbitrary arguments\n",
        "#**: arbitrary keyworded arguments"
      ],
      "metadata": {
        "id": "B6IFIAr4gNZ0"
      },
      "execution_count": null,
      "outputs": []
    },
    {
      "cell_type": "code",
      "source": [
        "def random (x,y,*args,c= 10,**kwargs):\n",
        "  print(x)\n",
        "  print(y)\n",
        "  print(args)\n",
        "  print(c)\n",
        "  print(kwargs)"
      ],
      "metadata": {
        "id": "5wmMXy0ugNcU"
      },
      "execution_count": 23,
      "outputs": []
    },
    {
      "cell_type": "code",
      "source": [
        "random(10,20,30,40,c = 50, d = 80, e= 90)"
      ],
      "metadata": {
        "colab": {
          "base_uri": "https://localhost:8080/"
        },
        "id": "6hPw6OyNgwx0",
        "outputId": "5792d6d2-3dde-44a1-b7cd-15b6819a0dbf"
      },
      "execution_count": 24,
      "outputs": [
        {
          "output_type": "stream",
          "name": "stdout",
          "text": [
            "10\n",
            "20\n",
            "(30, 40)\n",
            "50\n",
            "{'d': 80, 'e': 90}\n"
          ]
        }
      ]
    },
    {
      "cell_type": "code",
      "source": [
        "def random(x,y,c = 10,*args,**kwargs):\n",
        "  print(x)\n",
        "  print(y)\n",
        "  print(args)\n",
        "  print(c)\n",
        "  print(kwargs)"
      ],
      "metadata": {
        "id": "eAv-hjGxgw1O"
      },
      "execution_count": 25,
      "outputs": []
    },
    {
      "cell_type": "code",
      "source": [
        "random(10,20,30,40,c = 50,d = 80,e = 90)"
      ],
      "metadata": {
        "colab": {
          "base_uri": "https://localhost:8080/",
          "height": 141
        },
        "id": "GQTJRoqcgNgA",
        "outputId": "e427d683-0364-4f50-d065-4fe1df8e9d6f"
      },
      "execution_count": 26,
      "outputs": [
        {
          "output_type": "error",
          "ename": "TypeError",
          "evalue": "random() got multiple values for argument 'c'",
          "traceback": [
            "\u001b[0;31m---------------------------------------------------------------------------\u001b[0m",
            "\u001b[0;31mTypeError\u001b[0m                                 Traceback (most recent call last)",
            "\u001b[0;32m<ipython-input-26-69863879f64c>\u001b[0m in \u001b[0;36m<cell line: 1>\u001b[0;34m()\u001b[0m\n\u001b[0;32m----> 1\u001b[0;31m \u001b[0mrandom\u001b[0m\u001b[0;34m(\u001b[0m\u001b[0;36m10\u001b[0m\u001b[0;34m,\u001b[0m\u001b[0;36m20\u001b[0m\u001b[0;34m,\u001b[0m\u001b[0;36m30\u001b[0m\u001b[0;34m,\u001b[0m\u001b[0;36m40\u001b[0m\u001b[0;34m,\u001b[0m\u001b[0mc\u001b[0m \u001b[0;34m=\u001b[0m \u001b[0;36m50\u001b[0m\u001b[0;34m,\u001b[0m\u001b[0md\u001b[0m \u001b[0;34m=\u001b[0m \u001b[0;36m80\u001b[0m\u001b[0;34m,\u001b[0m\u001b[0me\u001b[0m \u001b[0;34m=\u001b[0m \u001b[0;36m90\u001b[0m\u001b[0;34m)\u001b[0m\u001b[0;34m\u001b[0m\u001b[0;34m\u001b[0m\u001b[0m\n\u001b[0m",
            "\u001b[0;31mTypeError\u001b[0m: random() got multiple values for argument 'c'"
          ]
        }
      ]
    }
  ]
}