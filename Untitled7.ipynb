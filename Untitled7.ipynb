{
  "nbformat": 4,
  "nbformat_minor": 0,
  "metadata": {
    "colab": {
      "provenance": [],
      "authorship_tag": "ABX9TyMpB2ZU0HxG0XmuLhdi0lMF",
      "include_colab_link": true
    },
    "kernelspec": {
      "name": "python3",
      "display_name": "Python 3"
    },
    "language_info": {
      "name": "python"
    }
  },
  "cells": [
    {
      "cell_type": "markdown",
      "metadata": {
        "id": "view-in-github",
        "colab_type": "text"
      },
      "source": [
        "<a href=\"https://colab.research.google.com/github/sr606/Python-Practice/blob/main/Untitled7.ipynb\" target=\"_parent\"><img src=\"https://colab.research.google.com/assets/colab-badge.svg\" alt=\"Open In Colab\"/></a>"
      ]
    },
    {
      "cell_type": "markdown",
      "source": [
        "##Object Programming\n",
        "\n",
        "Classes --> Blueprint\n",
        "Objects --> instance of class\n",
        "\n",
        "e.g Student Class\n",
        "Properties or attributes\n",
        "functions methods\n",
        "\n",
        "Account Class\n",
        "\n",
        "Attributes --> acc, bal,acc type\n",
        "functions/ methods -->deposit, withdraw, check balance\n",
        "\n",
        "enclose all above things which tkakes care of this inside class = blueprint\n",
        "\n"
      ],
      "metadata": {
        "id": "havASZBnABLS"
      }
    },
    {
      "cell_type": "code",
      "source": [
        "# benefits\n",
        "# reusability\n",
        "# modularity\n",
        "# scalibilty\n",
        "\n",
        "# Note: oops is used to create large scale poerations"
      ],
      "metadata": {
        "id": "j6LXmEU_BSy2"
      },
      "execution_count": null,
      "outputs": []
    },
    {
      "cell_type": "code",
      "source": [
        "class Student:\n",
        "  #attributes\n",
        "  #methods\n",
        "  pass  # have to use pass if not using body"
      ],
      "metadata": {
        "id": "ecOpwPMHBS1Y"
      },
      "execution_count": null,
      "outputs": []
    },
    {
      "cell_type": "code",
      "source": [
        "s1 = Student() # creating instance/obj of class"
      ],
      "metadata": {
        "id": "DiTpot_qBS4a"
      },
      "execution_count": null,
      "outputs": []
    },
    {
      "cell_type": "code",
      "source": [
        "type(s1)"
      ],
      "metadata": {
        "colab": {
          "base_uri": "https://localhost:8080/"
        },
        "id": "4u-C5zYLBS7P",
        "outputId": "76f8bfe2-5e9a-4c76-bae0-6b162ebcee11"
      },
      "execution_count": null,
      "outputs": [
        {
          "output_type": "execute_result",
          "data": {
            "text/plain": [
              "__main__.Student"
            ]
          },
          "metadata": {},
          "execution_count": 3
        }
      ]
    },
    {
      "cell_type": "code",
      "source": [
        "isinstance(s1,Student)"
      ],
      "metadata": {
        "colab": {
          "base_uri": "https://localhost:8080/"
        },
        "id": "laO07mCZBS92",
        "outputId": "53911a2a-90a2-4dc3-b2b5-58b4b167d396"
      },
      "execution_count": null,
      "outputs": [
        {
          "output_type": "execute_result",
          "data": {
            "text/plain": [
              "True"
            ]
          },
          "metadata": {},
          "execution_count": 4
        }
      ]
    },
    {
      "cell_type": "code",
      "source": [
        "s1.name = \"amir\""
      ],
      "metadata": {
        "id": "dVgoTvmeBTAn"
      },
      "execution_count": null,
      "outputs": []
    },
    {
      "cell_type": "code",
      "source": [
        "print(s1.name)"
      ],
      "metadata": {
        "colab": {
          "base_uri": "https://localhost:8080/"
        },
        "id": "hBD1_xCnBTDW",
        "outputId": "99d4c1f3-18f9-41e1-e9b1-078958873e22"
      },
      "execution_count": null,
      "outputs": [
        {
          "output_type": "stream",
          "name": "stdout",
          "text": [
            "amir\n"
          ]
        }
      ]
    },
    {
      "cell_type": "code",
      "source": [
        "s2 = Student()"
      ],
      "metadata": {
        "id": "gxn0_qmpBTGI"
      },
      "execution_count": null,
      "outputs": []
    },
    {
      "cell_type": "code",
      "source": [
        "print(s2.name)"
      ],
      "metadata": {
        "colab": {
          "base_uri": "https://localhost:8080/",
          "height": 141
        },
        "id": "jB-1lYuSBTIy",
        "outputId": "dd494d9a-41cb-4f20-ce4c-33066a885f06"
      },
      "execution_count": null,
      "outputs": [
        {
          "output_type": "error",
          "ename": "AttributeError",
          "evalue": "'Student' object has no attribute 'name'",
          "traceback": [
            "\u001b[0;31m---------------------------------------------------------------------------\u001b[0m",
            "\u001b[0;31mAttributeError\u001b[0m                            Traceback (most recent call last)",
            "\u001b[0;32m<ipython-input-9-0f62c5043e99>\u001b[0m in \u001b[0;36m<cell line: 1>\u001b[0;34m()\u001b[0m\n\u001b[0;32m----> 1\u001b[0;31m \u001b[0mprint\u001b[0m\u001b[0;34m(\u001b[0m\u001b[0ms2\u001b[0m\u001b[0;34m.\u001b[0m\u001b[0mname\u001b[0m\u001b[0;34m)\u001b[0m\u001b[0;34m\u001b[0m\u001b[0;34m\u001b[0m\u001b[0m\n\u001b[0m",
            "\u001b[0;31mAttributeError\u001b[0m: 'Student' object has no attribute 'name'"
          ]
        }
      ]
    },
    {
      "cell_type": "code",
      "source": [
        "class Student:\n",
        "  def __init__(self, name):\n",
        "    self.name = name\n",
        "\n",
        "#self is reference/var/identifier to the obj\n",
        "#self made an attribut when save amir in name attribute in memory block of s1 objet\n"
      ],
      "metadata": {
        "id": "heHgXvBcBTMQ"
      },
      "execution_count": null,
      "outputs": []
    },
    {
      "cell_type": "code",
      "source": [
        "s1 = Student(\"amir\")"
      ],
      "metadata": {
        "id": "kD8d-k0tDojW"
      },
      "execution_count": null,
      "outputs": []
    },
    {
      "cell_type": "code",
      "source": [
        "print(s1.name)"
      ],
      "metadata": {
        "colab": {
          "base_uri": "https://localhost:8080/"
        },
        "id": "NGlxA_XLDol-",
        "outputId": "3c976f61-4be8-43db-dc21-b0fbf33e664e"
      },
      "execution_count": null,
      "outputs": [
        {
          "output_type": "stream",
          "name": "stdout",
          "text": [
            "amir\n"
          ]
        }
      ]
    },
    {
      "cell_type": "code",
      "source": [
        "type(s1.name)"
      ],
      "metadata": {
        "colab": {
          "base_uri": "https://localhost:8080/"
        },
        "id": "MYzck-x9Doos",
        "outputId": "8fd8bee1-09f3-44c4-838e-64ddcb62abb8"
      },
      "execution_count": null,
      "outputs": [
        {
          "output_type": "execute_result",
          "data": {
            "text/plain": [
              "str"
            ]
          },
          "metadata": {},
          "execution_count": 13
        }
      ]
    },
    {
      "cell_type": "code",
      "source": [
        "class BankAccount:\n",
        "  def __init__(self, bankname, bankacc):\n",
        "    self.bankname = name\n",
        "    self.bankacc = account"
      ],
      "metadata": {
        "id": "Cz7xXT3_E_dM"
      },
      "execution_count": null,
      "outputs": []
    },
    {
      "cell_type": "code",
      "source": [
        "class BankAccount:\n",
        "  def __init__(self,id,balance):\n",
        "    self.id = id\n",
        "    self.balance = balance\n",
        "\n",
        "  def deposit(self,amount):\n",
        "    self.balance += amount\n",
        "    return self.balance\n",
        "\n",
        "  def withdraw(self,amount):\n",
        "    self.balance -= amount\n",
        "    return self.balance\n",
        "\n",
        "  def cheeck_balance(self):\n",
        "    return self.balance"
      ],
      "metadata": {
        "id": "s-IyZwhbE_Zw"
      },
      "execution_count": null,
      "outputs": []
    },
    {
      "cell_type": "code",
      "source": [
        "acc1 = BankAccount(1,1000)\n",
        "acc2 = BankAccount(2,1500)"
      ],
      "metadata": {
        "id": "hGjnYO44DorQ"
      },
      "execution_count": null,
      "outputs": []
    },
    {
      "cell_type": "code",
      "source": [
        "acc1.deposit(500)"
      ],
      "metadata": {
        "colab": {
          "base_uri": "https://localhost:8080/"
        },
        "id": "U_YF_MYhDot6",
        "outputId": "5da70e68-fe2f-4158-db7e-70e2ead6b24e"
      },
      "execution_count": null,
      "outputs": [
        {
          "output_type": "execute_result",
          "data": {
            "text/plain": [
              "1500"
            ]
          },
          "metadata": {},
          "execution_count": 34
        }
      ]
    },
    {
      "cell_type": "code",
      "source": [
        "acc1.withdraw(100)"
      ],
      "metadata": {
        "colab": {
          "base_uri": "https://localhost:8080/"
        },
        "id": "CpSjzuGkDoxc",
        "outputId": "beefa28b-b676-457c-af91-d357f516aa1e"
      },
      "execution_count": null,
      "outputs": [
        {
          "output_type": "execute_result",
          "data": {
            "text/plain": [
              "1400"
            ]
          },
          "metadata": {},
          "execution_count": 31
        }
      ]
    },
    {
      "cell_type": "code",
      "source": [
        "print(acc1.cheeck_balance())\n",
        "print(acc2.cheeck_balance())"
      ],
      "metadata": {
        "colab": {
          "base_uri": "https://localhost:8080/"
        },
        "id": "RNY2b1N5Do3J",
        "outputId": "ae147e5f-3573-416c-973e-d756680b40c5"
      },
      "execution_count": null,
      "outputs": [
        {
          "output_type": "stream",
          "name": "stdout",
          "text": [
            "1500\n",
            "1500\n"
          ]
        }
      ]
    },
    {
      "cell_type": "code",
      "source": [
        "#class can have multiple object of class\n",
        "#self helping me to make changes to seposit, withdraw\n",
        "#it isencapsulating everything to perticular class\n"
      ],
      "metadata": {
        "id": "mNECJrI-Do5b"
      },
      "execution_count": null,
      "outputs": []
    },
    {
      "cell_type": "markdown",
      "source": [
        "#Inheritance"
      ],
      "metadata": {
        "id": "3yuYPrZqQAGa"
      }
    },
    {
      "cell_type": "code",
      "source": [
        "class BankAccount:\n",
        "  def __init__(self,id,balance):\n",
        "    self.id = id\n",
        "    self.balance = balance\n",
        "\n",
        "  def deposit(self,amount):\n",
        "    self.balance += amount\n",
        "    return self.balance\n",
        "\n",
        "  def withdraw(self,amount):\n",
        "    self.balance -= amount\n",
        "    return self.balance\n",
        "\n",
        "  def cheeck_balance(self):\n",
        "    return self.balance\n",
        "\n",
        "class savingsAccount(BankAccount):\n",
        "  def __init__(self, id, balance):\n",
        "    self.id = id\n",
        "    self.balance = balance"
      ],
      "metadata": {
        "id": "1NZNdQM5IIEw"
      },
      "execution_count": null,
      "outputs": []
    },
    {
      "cell_type": "code",
      "source": [
        "sav1 = savingsAccount(1,500)"
      ],
      "metadata": {
        "id": "RSlXbhdMDo84"
      },
      "execution_count": null,
      "outputs": []
    },
    {
      "cell_type": "code",
      "source": [
        "sav1.deposit(amount=100)"
      ],
      "metadata": {
        "colab": {
          "base_uri": "https://localhost:8080/"
        },
        "id": "dITIa0eYRqAS",
        "outputId": "7407d02e-cd83-4a8c-a56b-76d247185fde"
      },
      "execution_count": null,
      "outputs": [
        {
          "output_type": "execute_result",
          "data": {
            "text/plain": [
              "600"
            ]
          },
          "metadata": {},
          "execution_count": 39
        }
      ]
    },
    {
      "cell_type": "code",
      "source": [
        "class Animal:\n",
        "  def sound(self):\n",
        "    print(\"meow\")\n",
        "\n",
        "class Dog(Animal):\n",
        "  def __init__(self, name):\n",
        "    self.name = name"
      ],
      "metadata": {
        "id": "uedLNhCaR9kT"
      },
      "execution_count": null,
      "outputs": []
    },
    {
      "cell_type": "code",
      "source": [
        "d1 = Dog(\"tommy\")"
      ],
      "metadata": {
        "id": "J3ouan-fRqF0"
      },
      "execution_count": null,
      "outputs": []
    },
    {
      "cell_type": "code",
      "source": [
        "d1.sound()"
      ],
      "metadata": {
        "colab": {
          "base_uri": "https://localhost:8080/"
        },
        "id": "kdVX6YW1RqIt",
        "outputId": "198229c3-0cc9-4539-b158-7a19fd88e714"
      },
      "execution_count": null,
      "outputs": [
        {
          "output_type": "stream",
          "name": "stdout",
          "text": [
            "meow\n"
          ]
        }
      ]
    },
    {
      "cell_type": "markdown",
      "source": [
        "#Polymorphism"
      ],
      "metadata": {
        "id": "HQ10oqR6R0-6"
      }
    },
    {
      "cell_type": "code",
      "source": [
        "class Animal:\n",
        "  def sound(self):\n",
        "    print(\"random sound\")\n",
        "\n",
        "  def move(self):\n",
        "    print(\"Im moving\")\n",
        "\n",
        "class Dog(Animal):\n",
        "  def __init__(self, name):\n",
        "    self.name = name\n",
        "\n",
        "  def sound(seld):\n",
        "    print(\"woof\")\n",
        "\n",
        "class Cat(Animal):\n",
        "  def __init__(self, name):\n",
        "    self.name = name\n",
        "\n",
        "  def sound(self):\n",
        "    print(\"meow\")\n",
        "\n"
      ],
      "metadata": {
        "id": "0GFumTtvRqL4"
      },
      "execution_count": null,
      "outputs": []
    },
    {
      "cell_type": "code",
      "source": [
        "a1 = Animal()\n",
        "d1 = Dog(\"Bruno\")\n",
        "c1 = Cat(\"Kit\")"
      ],
      "metadata": {
        "id": "YTn-oIpiSm-X"
      },
      "execution_count": null,
      "outputs": []
    },
    {
      "cell_type": "code",
      "source": [
        "print(a1.sound())\n",
        "print(d1.sound())\n",
        "print(c1.sound())\n",
        "#none is coming becoz i havent defined anything here"
      ],
      "metadata": {
        "colab": {
          "base_uri": "https://localhost:8080/"
        },
        "id": "b9SFcE5_SnBF",
        "outputId": "4fc339e8-371c-4c6f-cdaf-5a7f31fe2e74"
      },
      "execution_count": null,
      "outputs": [
        {
          "output_type": "stream",
          "name": "stdout",
          "text": [
            "random sound\n",
            "None\n",
            "woof\n",
            "None\n",
            "meow\n",
            "None\n"
          ]
        }
      ]
    },
    {
      "cell_type": "code",
      "source": [
        "print(d1.move())"
      ],
      "metadata": {
        "colab": {
          "base_uri": "https://localhost:8080/"
        },
        "id": "2g3gvr4MSnDv",
        "outputId": "1641148c-2a59-4a3c-eaf6-5d48d3aca50c"
      },
      "execution_count": null,
      "outputs": [
        {
          "output_type": "stream",
          "name": "stdout",
          "text": [
            "Im moving\n",
            "None\n"
          ]
        }
      ]
    },
    {
      "cell_type": "markdown",
      "source": [
        "#Constructors"
      ],
      "metadata": {
        "id": "c7JjWl2AVSHz"
      }
    },
    {
      "cell_type": "code",
      "source": [
        "class Animal:\n",
        "  pass"
      ],
      "metadata": {
        "id": "MbNXqOqASnGW"
      },
      "execution_count": 1,
      "outputs": []
    },
    {
      "cell_type": "code",
      "source": [
        "a1 = Animal()"
      ],
      "metadata": {
        "id": "cOiUsPdsSnI7"
      },
      "execution_count": 3,
      "outputs": []
    },
    {
      "cell_type": "code",
      "source": [
        "isinstance(a1, Animal)"
      ],
      "metadata": {
        "id": "bi8RhCIzSnLb",
        "outputId": "462e7f0a-fa6f-42f6-9c40-632a32a0f414",
        "colab": {
          "base_uri": "https://localhost:8080/"
        }
      },
      "execution_count": 4,
      "outputs": [
        {
          "output_type": "execute_result",
          "data": {
            "text/plain": [
              "True"
            ]
          },
          "metadata": {},
          "execution_count": 4
        }
      ]
    },
    {
      "cell_type": "code",
      "source": [
        "type(a1)"
      ],
      "metadata": {
        "id": "L0tkRACSSnQm",
        "outputId": "9a2bb2a0-23b8-4a60-a772-6fcabf906b72",
        "colab": {
          "base_uri": "https://localhost:8080/"
        }
      },
      "execution_count": 5,
      "outputs": [
        {
          "output_type": "execute_result",
          "data": {
            "text/plain": [
              "__main__.Animal"
            ]
          },
          "metadata": {},
          "execution_count": 5
        }
      ]
    },
    {
      "cell_type": "code",
      "source": [
        "a1.name = \"Bruno\""
      ],
      "metadata": {
        "id": "kjVEROHoSnSx"
      },
      "execution_count": 6,
      "outputs": []
    },
    {
      "cell_type": "code",
      "source": [
        "class Animal:\n",
        "  def __init__(self, name_param):\n",
        "    self.name = name_param"
      ],
      "metadata": {
        "id": "20J9lBwZSnWM"
      },
      "execution_count": 9,
      "outputs": []
    },
    {
      "cell_type": "code",
      "source": [
        "a1 = Animal(\"Bruno\")"
      ],
      "metadata": {
        "id": "MaWm2cPVwrZ2"
      },
      "execution_count": 10,
      "outputs": []
    },
    {
      "cell_type": "code",
      "source": [
        "class Animal:\n",
        "  def __init__(self, name_param, leg_param):\n",
        "    self.name = name_param\n",
        "    self.legs = leg_param"
      ],
      "metadata": {
        "id": "qoPl4WWowrcV"
      },
      "execution_count": 11,
      "outputs": []
    },
    {
      "cell_type": "code",
      "source": [
        "a1 = Animal(\"Bruno\",4)"
      ],
      "metadata": {
        "id": "SebTyHlnwrfC"
      },
      "execution_count": 12,
      "outputs": []
    },
    {
      "cell_type": "markdown",
      "source": [
        "##Classs Variqables"
      ],
      "metadata": {
        "id": "rl6KGTq_xQ3f"
      }
    },
    {
      "cell_type": "code",
      "source": [
        "class Student:\n",
        "  count = 100\n",
        "  def __init__(self, name,id):\n",
        "    self.name = name\n",
        "    self.id = id"
      ],
      "metadata": {
        "id": "PU54_ajLwrhd"
      },
      "execution_count": 15,
      "outputs": []
    },
    {
      "cell_type": "code",
      "source": [
        "s1 = Student(\"Ram\",1)\n",
        "s2 = Student(\"Shyam\",2)"
      ],
      "metadata": {
        "id": "KYxZI7XewrkG"
      },
      "execution_count": 16,
      "outputs": []
    },
    {
      "cell_type": "code",
      "source": [
        "print(s1.id)\n",
        "print(s2.id)\n",
        "print(s1.count) # object has access to class variable\n",
        "print(s2.count)"
      ],
      "metadata": {
        "id": "h_2L_hNnwrmm",
        "outputId": "0bdcf7b9-98bd-4a7e-cff5-bed5455342ad",
        "colab": {
          "base_uri": "https://localhost:8080/"
        }
      },
      "execution_count": 17,
      "outputs": [
        {
          "output_type": "stream",
          "name": "stdout",
          "text": [
            "1\n",
            "2\n",
            "100\n",
            "100\n"
          ]
        }
      ]
    },
    {
      "cell_type": "code",
      "source": [
        "print(Student.count)"
      ],
      "metadata": {
        "id": "PWpABO1Bwroy",
        "outputId": "aded42d4-c814-4ef2-82ea-bd6e2d7a48a2",
        "colab": {
          "base_uri": "https://localhost:8080/"
        }
      },
      "execution_count": 19,
      "outputs": [
        {
          "output_type": "stream",
          "name": "stdout",
          "text": [
            "100\n"
          ]
        }
      ]
    },
    {
      "cell_type": "code",
      "source": [
        "s1.count += 10"
      ],
      "metadata": {
        "id": "ZkUGgPqhwrq0"
      },
      "execution_count": 20,
      "outputs": []
    },
    {
      "cell_type": "code",
      "source": [
        "print(s1.count)\n",
        "print(s2.count)\n",
        "print(Student.count)"
      ],
      "metadata": {
        "id": "YGMe7lMgwrsf",
        "outputId": "afb72b18-2500-4f98-a248-3dc80b6f0cbe",
        "colab": {
          "base_uri": "https://localhost:8080/"
        }
      },
      "execution_count": 21,
      "outputs": [
        {
          "output_type": "stream",
          "name": "stdout",
          "text": [
            "110\n",
            "100\n",
            "100\n"
          ]
        }
      ]
    },
    {
      "cell_type": "code",
      "source": [
        "Student.count += 30\n",
        "print(s1.count)\n",
        "print(s2.count)\n",
        "print(Student.count)"
      ],
      "metadata": {
        "id": "aSzT6GHLy_gp",
        "outputId": "dfbf9d0f-fde7-4042-e350-22543f22ebda",
        "colab": {
          "base_uri": "https://localhost:8080/"
        }
      },
      "execution_count": 24,
      "outputs": [
        {
          "output_type": "stream",
          "name": "stdout",
          "text": [
            "110\n",
            "130\n",
            "130\n"
          ]
        }
      ]
    },
    {
      "cell_type": "code",
      "source": [
        "class Dog:\n",
        "    tricks = []\n",
        "\n",
        "    '''\n",
        "    When updating a class variable using an object -\n",
        "    - In case of immutable - New Instance Variable created\n",
        "    - In case of mutable - Original Class Variable updated\n",
        "    '''\n",
        "\n",
        "    def __init__(self, name):\n",
        "        self.name = name\n",
        "\n",
        "    def teach_trick(self, trick):\n",
        "        self.tricks.append(trick)"
      ],
      "metadata": {
        "id": "EP7CSiSgy_jh"
      },
      "execution_count": 26,
      "outputs": []
    },
    {
      "cell_type": "code",
      "source": [
        "d1 = Dog(\"Bruno\")\n",
        "d2 = Dog(\"Pluto\")"
      ],
      "metadata": {
        "id": "CP_IIZV5y_mT"
      },
      "execution_count": 27,
      "outputs": []
    },
    {
      "cell_type": "code",
      "source": [
        "print(d1.tricks)\n",
        "print(d2.tricks)\n",
        "print(Dog.tricks)"
      ],
      "metadata": {
        "id": "IqNa-GdHy_o7",
        "outputId": "3dfcedc6-9f6d-4755-f229-413be2b8cdd5",
        "colab": {
          "base_uri": "https://localhost:8080/"
        }
      },
      "execution_count": 28,
      "outputs": [
        {
          "output_type": "stream",
          "name": "stdout",
          "text": [
            "[]\n",
            "[]\n",
            "[]\n"
          ]
        }
      ]
    },
    {
      "cell_type": "code",
      "source": [
        "d1.teach_trick(\"jump\")"
      ],
      "metadata": {
        "id": "b5t5rPVFy_rd"
      },
      "execution_count": 29,
      "outputs": []
    },
    {
      "cell_type": "code",
      "source": [
        "print(d1.tricks)\n",
        "print(d2.tricks)\n",
        "print(Dog.tricks)"
      ],
      "metadata": {
        "id": "EqMN5cTNy_ta",
        "outputId": "ef6c2488-eb28-455d-99b7-fb6eeedd7111",
        "colab": {
          "base_uri": "https://localhost:8080/"
        }
      },
      "execution_count": 30,
      "outputs": [
        {
          "output_type": "stream",
          "name": "stdout",
          "text": [
            "['jump']\n",
            "['jump']\n",
            "['jump']\n"
          ]
        }
      ]
    },
    {
      "cell_type": "code",
      "source": [
        "d1.teach_trick(\"sit\")"
      ],
      "metadata": {
        "id": "az_dGrVoy_w7"
      },
      "execution_count": 31,
      "outputs": []
    },
    {
      "cell_type": "code",
      "source": [
        "print(d1.tricks)\n",
        "print(d2.tricks)\n",
        "print(Dog.tricks)"
      ],
      "metadata": {
        "id": "_sfqsRj_wrv_",
        "outputId": "5aed44a6-b7d5-47a8-e104-f109765e078a",
        "colab": {
          "base_uri": "https://localhost:8080/"
        }
      },
      "execution_count": 32,
      "outputs": [
        {
          "output_type": "stream",
          "name": "stdout",
          "text": [
            "['jump', 'sit']\n",
            "['jump', 'sit']\n",
            "['jump', 'sit']\n"
          ]
        }
      ]
    },
    {
      "cell_type": "code",
      "source": [
        "class Student:\n",
        "  count = 100\n",
        "  def __init__(self, name):\n",
        "    self.name = name\n",
        "    self.id = Student.count\n",
        "    Student.count += 1"
      ],
      "metadata": {
        "id": "UKkuF-QF11E_"
      },
      "execution_count": 36,
      "outputs": []
    },
    {
      "cell_type": "code",
      "source": [
        "s1 = Student(\"a\")\n",
        "s2 = Student(\"b\")\n",
        "s3 = Student(\"c\")"
      ],
      "metadata": {
        "id": "5RKy29Dp11LJ"
      },
      "execution_count": 37,
      "outputs": []
    },
    {
      "cell_type": "code",
      "source": [
        "print(s1.id)\n",
        "print(s2.id)\n",
        "print(s3.id)"
      ],
      "metadata": {
        "id": "5Tv2IdYF11Oq",
        "outputId": "d8238571-876e-413f-ba7e-04c982c64b5c",
        "colab": {
          "base_uri": "https://localhost:8080/"
        }
      },
      "execution_count": 38,
      "outputs": [
        {
          "output_type": "stream",
          "name": "stdout",
          "text": [
            "100\n",
            "101\n",
            "102\n"
          ]
        }
      ]
    }
  ]
}