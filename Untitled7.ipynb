{
  "nbformat": 4,
  "nbformat_minor": 0,
  "metadata": {
    "colab": {
      "provenance": [],
      "authorship_tag": "ABX9TyMh06qv1tVtiP6FNSFqjz8d",
      "include_colab_link": true
    },
    "kernelspec": {
      "name": "python3",
      "display_name": "Python 3"
    },
    "language_info": {
      "name": "python"
    }
  },
  "cells": [
    {
      "cell_type": "markdown",
      "metadata": {
        "id": "view-in-github",
        "colab_type": "text"
      },
      "source": [
        "<a href=\"https://colab.research.google.com/github/sr606/Python-Practice/blob/main/Untitled7.ipynb\" target=\"_parent\"><img src=\"https://colab.research.google.com/assets/colab-badge.svg\" alt=\"Open In Colab\"/></a>"
      ]
    },
    {
      "cell_type": "markdown",
      "source": [
        "##Object Programming\n",
        "\n",
        "Classes --> Blueprint\n",
        "Objects --> instance of class\n",
        "\n",
        "e.g Student Class\n",
        "Properties or attributes\n",
        "functions methods\n",
        "\n",
        "Account Class\n",
        "\n",
        "Attributes --> acc, bal,acc type\n",
        "functions/ methods -->deposit, withdraw, check balance\n",
        "\n",
        "enclose all above things which tkakes care of this inside class = blueprint\n",
        "\n"
      ],
      "metadata": {
        "id": "havASZBnABLS"
      }
    },
    {
      "cell_type": "code",
      "source": [
        "# benefits\n",
        "# reusability\n",
        "# modularity\n",
        "# scalibilty\n",
        "\n",
        "# Note: oops is used to create large scale poerations"
      ],
      "metadata": {
        "id": "j6LXmEU_BSy2"
      },
      "execution_count": null,
      "outputs": []
    },
    {
      "cell_type": "code",
      "source": [
        "class Student:\n",
        "  #attributes\n",
        "  #methods\n",
        "  pass  # have to use pass if not using body"
      ],
      "metadata": {
        "id": "ecOpwPMHBS1Y"
      },
      "execution_count": 1,
      "outputs": []
    },
    {
      "cell_type": "code",
      "source": [
        "s1 = Student() # creating instance/obj of class"
      ],
      "metadata": {
        "id": "DiTpot_qBS4a"
      },
      "execution_count": 2,
      "outputs": []
    },
    {
      "cell_type": "code",
      "source": [
        "type(s1)"
      ],
      "metadata": {
        "colab": {
          "base_uri": "https://localhost:8080/"
        },
        "id": "4u-C5zYLBS7P",
        "outputId": "76f8bfe2-5e9a-4c76-bae0-6b162ebcee11"
      },
      "execution_count": 3,
      "outputs": [
        {
          "output_type": "execute_result",
          "data": {
            "text/plain": [
              "__main__.Student"
            ]
          },
          "metadata": {},
          "execution_count": 3
        }
      ]
    },
    {
      "cell_type": "code",
      "source": [
        "isinstance(s1,Student)"
      ],
      "metadata": {
        "colab": {
          "base_uri": "https://localhost:8080/"
        },
        "id": "laO07mCZBS92",
        "outputId": "53911a2a-90a2-4dc3-b2b5-58b4b167d396"
      },
      "execution_count": 4,
      "outputs": [
        {
          "output_type": "execute_result",
          "data": {
            "text/plain": [
              "True"
            ]
          },
          "metadata": {},
          "execution_count": 4
        }
      ]
    },
    {
      "cell_type": "code",
      "source": [
        "s1.name = \"amir\""
      ],
      "metadata": {
        "id": "dVgoTvmeBTAn"
      },
      "execution_count": 6,
      "outputs": []
    },
    {
      "cell_type": "code",
      "source": [
        "print(s1.name)"
      ],
      "metadata": {
        "colab": {
          "base_uri": "https://localhost:8080/"
        },
        "id": "hBD1_xCnBTDW",
        "outputId": "99d4c1f3-18f9-41e1-e9b1-078958873e22"
      },
      "execution_count": 7,
      "outputs": [
        {
          "output_type": "stream",
          "name": "stdout",
          "text": [
            "amir\n"
          ]
        }
      ]
    },
    {
      "cell_type": "code",
      "source": [
        "s2 = Student()"
      ],
      "metadata": {
        "id": "gxn0_qmpBTGI"
      },
      "execution_count": 8,
      "outputs": []
    },
    {
      "cell_type": "code",
      "source": [
        "print(s2.name)"
      ],
      "metadata": {
        "colab": {
          "base_uri": "https://localhost:8080/",
          "height": 141
        },
        "id": "jB-1lYuSBTIy",
        "outputId": "dd494d9a-41cb-4f20-ce4c-33066a885f06"
      },
      "execution_count": 9,
      "outputs": [
        {
          "output_type": "error",
          "ename": "AttributeError",
          "evalue": "'Student' object has no attribute 'name'",
          "traceback": [
            "\u001b[0;31m---------------------------------------------------------------------------\u001b[0m",
            "\u001b[0;31mAttributeError\u001b[0m                            Traceback (most recent call last)",
            "\u001b[0;32m<ipython-input-9-0f62c5043e99>\u001b[0m in \u001b[0;36m<cell line: 1>\u001b[0;34m()\u001b[0m\n\u001b[0;32m----> 1\u001b[0;31m \u001b[0mprint\u001b[0m\u001b[0;34m(\u001b[0m\u001b[0ms2\u001b[0m\u001b[0;34m.\u001b[0m\u001b[0mname\u001b[0m\u001b[0;34m)\u001b[0m\u001b[0;34m\u001b[0m\u001b[0;34m\u001b[0m\u001b[0m\n\u001b[0m",
            "\u001b[0;31mAttributeError\u001b[0m: 'Student' object has no attribute 'name'"
          ]
        }
      ]
    },
    {
      "cell_type": "code",
      "source": [
        "class Student:\n",
        "  def __init__(self, name):\n",
        "    self.name = name\n",
        "\n",
        "#self is reference/var/identifier to the obj\n",
        "#self made an attribut when save amir in name attribute in memory block of s1 objet\n"
      ],
      "metadata": {
        "id": "heHgXvBcBTMQ"
      },
      "execution_count": 10,
      "outputs": []
    },
    {
      "cell_type": "code",
      "source": [
        "s1 = Student(\"amir\")"
      ],
      "metadata": {
        "id": "kD8d-k0tDojW"
      },
      "execution_count": 11,
      "outputs": []
    },
    {
      "cell_type": "code",
      "source": [
        "print(s1.name)"
      ],
      "metadata": {
        "colab": {
          "base_uri": "https://localhost:8080/"
        },
        "id": "NGlxA_XLDol-",
        "outputId": "3c976f61-4be8-43db-dc21-b0fbf33e664e"
      },
      "execution_count": 12,
      "outputs": [
        {
          "output_type": "stream",
          "name": "stdout",
          "text": [
            "amir\n"
          ]
        }
      ]
    },
    {
      "cell_type": "code",
      "source": [
        "type(s1.name)"
      ],
      "metadata": {
        "colab": {
          "base_uri": "https://localhost:8080/"
        },
        "id": "MYzck-x9Doos",
        "outputId": "8fd8bee1-09f3-44c4-838e-64ddcb62abb8"
      },
      "execution_count": 13,
      "outputs": [
        {
          "output_type": "execute_result",
          "data": {
            "text/plain": [
              "str"
            ]
          },
          "metadata": {},
          "execution_count": 13
        }
      ]
    },
    {
      "cell_type": "code",
      "source": [
        "class BankAccount:\n",
        "  def __init__(self, bankname, bankacc):\n",
        "    self.bankname = name\n",
        "    self.bankacc = account"
      ],
      "metadata": {
        "id": "Cz7xXT3_E_dM"
      },
      "execution_count": 14,
      "outputs": []
    },
    {
      "cell_type": "code",
      "source": [
        "class BankAccount:\n",
        "  def __init__(self,id,balance):\n",
        "    self.id = id\n",
        "    self.balance = balance\n",
        "\n",
        "  def deposit(self,amount):\n",
        "    self.balance += amount\n",
        "    return self.balance\n",
        "\n",
        "  def withdraw(self,amount):\n",
        "    self.balance -= amount\n",
        "    return self.balance\n",
        "\n",
        "  def cheeck_balance(self):\n",
        "    return self.balance"
      ],
      "metadata": {
        "id": "s-IyZwhbE_Zw"
      },
      "execution_count": 28,
      "outputs": []
    },
    {
      "cell_type": "code",
      "source": [
        "acc1 = BankAccount(1,1000)\n",
        "acc2 = BankAccount(2,1500)"
      ],
      "metadata": {
        "id": "hGjnYO44DorQ"
      },
      "execution_count": 33,
      "outputs": []
    },
    {
      "cell_type": "code",
      "source": [
        "acc1.deposit(500)"
      ],
      "metadata": {
        "colab": {
          "base_uri": "https://localhost:8080/"
        },
        "id": "U_YF_MYhDot6",
        "outputId": "5da70e68-fe2f-4158-db7e-70e2ead6b24e"
      },
      "execution_count": 34,
      "outputs": [
        {
          "output_type": "execute_result",
          "data": {
            "text/plain": [
              "1500"
            ]
          },
          "metadata": {},
          "execution_count": 34
        }
      ]
    },
    {
      "cell_type": "code",
      "source": [
        "acc1.withdraw(100)"
      ],
      "metadata": {
        "colab": {
          "base_uri": "https://localhost:8080/"
        },
        "id": "CpSjzuGkDoxc",
        "outputId": "beefa28b-b676-457c-af91-d357f516aa1e"
      },
      "execution_count": 31,
      "outputs": [
        {
          "output_type": "execute_result",
          "data": {
            "text/plain": [
              "1400"
            ]
          },
          "metadata": {},
          "execution_count": 31
        }
      ]
    },
    {
      "cell_type": "code",
      "source": [
        "print(acc1.cheeck_balance())\n",
        "print(acc2.cheeck_balance())"
      ],
      "metadata": {
        "colab": {
          "base_uri": "https://localhost:8080/"
        },
        "id": "RNY2b1N5Do3J",
        "outputId": "ae147e5f-3573-416c-973e-d756680b40c5"
      },
      "execution_count": 36,
      "outputs": [
        {
          "output_type": "stream",
          "name": "stdout",
          "text": [
            "1500\n",
            "1500\n"
          ]
        }
      ]
    },
    {
      "cell_type": "code",
      "source": [
        "#class can have multiple object of class\n",
        "#self helping me to make changes to seposit, withdraw\n",
        "#it isencapsulating everything to perticular class\n"
      ],
      "metadata": {
        "id": "mNECJrI-Do5b"
      },
      "execution_count": null,
      "outputs": []
    },
    {
      "cell_type": "markdown",
      "source": [
        "#Inheritance"
      ],
      "metadata": {
        "id": "3yuYPrZqQAGa"
      }
    },
    {
      "cell_type": "code",
      "source": [
        "class BankAccount:\n",
        "  def __init__(self,id,balance):\n",
        "    self.id = id\n",
        "    self.balance = balance\n",
        "\n",
        "  def deposit(self,amount):\n",
        "    self.balance += amount\n",
        "    return self.balance\n",
        "\n",
        "  def withdraw(self,amount):\n",
        "    self.balance -= amount\n",
        "    return self.balance\n",
        "\n",
        "  def cheeck_balance(self):\n",
        "    return self.balance\n",
        "\n",
        "class savingsAccount(BankAccount):\n",
        "  def __init__(self, id, balance):\n",
        "    self.id = id\n",
        "    self.balance = balance"
      ],
      "metadata": {
        "id": "1NZNdQM5IIEw"
      },
      "execution_count": 37,
      "outputs": []
    },
    {
      "cell_type": "code",
      "source": [
        "sav1 = savingsAccount(1,500)"
      ],
      "metadata": {
        "id": "RSlXbhdMDo84"
      },
      "execution_count": 38,
      "outputs": []
    },
    {
      "cell_type": "code",
      "source": [
        "sav1.deposit(amount=100)"
      ],
      "metadata": {
        "colab": {
          "base_uri": "https://localhost:8080/"
        },
        "id": "dITIa0eYRqAS",
        "outputId": "7407d02e-cd83-4a8c-a56b-76d247185fde"
      },
      "execution_count": 39,
      "outputs": [
        {
          "output_type": "execute_result",
          "data": {
            "text/plain": [
              "600"
            ]
          },
          "metadata": {},
          "execution_count": 39
        }
      ]
    },
    {
      "cell_type": "code",
      "source": [
        "class Animal:\n",
        "  def sound(self):\n",
        "    print(\"meow\")\n",
        "\n",
        "class Dog(Animal):\n",
        "  def __init__(self, name):\n",
        "    self.name = name"
      ],
      "metadata": {
        "id": "uedLNhCaR9kT"
      },
      "execution_count": 40,
      "outputs": []
    },
    {
      "cell_type": "code",
      "source": [
        "d1 = Dog(\"tommy\")"
      ],
      "metadata": {
        "id": "J3ouan-fRqF0"
      },
      "execution_count": 41,
      "outputs": []
    },
    {
      "cell_type": "code",
      "source": [
        "d1.sound()"
      ],
      "metadata": {
        "colab": {
          "base_uri": "https://localhost:8080/"
        },
        "id": "kdVX6YW1RqIt",
        "outputId": "198229c3-0cc9-4539-b158-7a19fd88e714"
      },
      "execution_count": 42,
      "outputs": [
        {
          "output_type": "stream",
          "name": "stdout",
          "text": [
            "meow\n"
          ]
        }
      ]
    },
    {
      "cell_type": "markdown",
      "source": [
        "#Polymorphism"
      ],
      "metadata": {
        "id": "HQ10oqR6R0-6"
      }
    },
    {
      "cell_type": "code",
      "source": [
        "class Animal:\n",
        "  def sound(self):\n",
        "    print(\"random sound\")\n",
        "\n",
        "  def move(self):\n",
        "    print(\"Im moving\")\n",
        "\n",
        "class Dog(Animal):\n",
        "  def __init__(self, name):\n",
        "    self.name = name\n",
        "\n",
        "  def sound(seld):\n",
        "    print(\"woof\")\n",
        "\n",
        "class Cat(Animal):\n",
        "  def __init__(self, name):\n",
        "    self.name = name\n",
        "\n",
        "  def sound(self):\n",
        "    print(\"meow\")\n",
        "\n"
      ],
      "metadata": {
        "id": "0GFumTtvRqL4"
      },
      "execution_count": 48,
      "outputs": []
    },
    {
      "cell_type": "code",
      "source": [
        "a1 = Animal()\n",
        "d1 = Dog(\"Bruno\")\n",
        "c1 = Cat(\"Kit\")"
      ],
      "metadata": {
        "id": "YTn-oIpiSm-X"
      },
      "execution_count": 49,
      "outputs": []
    },
    {
      "cell_type": "code",
      "source": [
        "print(a1.sound())\n",
        "print(d1.sound())\n",
        "print(c1.sound())\n",
        "#none is coming becoz i havent defined anything here"
      ],
      "metadata": {
        "colab": {
          "base_uri": "https://localhost:8080/"
        },
        "id": "b9SFcE5_SnBF",
        "outputId": "4fc339e8-371c-4c6f-cdaf-5a7f31fe2e74"
      },
      "execution_count": 50,
      "outputs": [
        {
          "output_type": "stream",
          "name": "stdout",
          "text": [
            "random sound\n",
            "None\n",
            "woof\n",
            "None\n",
            "meow\n",
            "None\n"
          ]
        }
      ]
    },
    {
      "cell_type": "code",
      "source": [
        "print(d1.move())"
      ],
      "metadata": {
        "colab": {
          "base_uri": "https://localhost:8080/"
        },
        "id": "2g3gvr4MSnDv",
        "outputId": "1641148c-2a59-4a3c-eaf6-5d48d3aca50c"
      },
      "execution_count": 51,
      "outputs": [
        {
          "output_type": "stream",
          "name": "stdout",
          "text": [
            "Im moving\n",
            "None\n"
          ]
        }
      ]
    },
    {
      "cell_type": "markdown",
      "source": [
        "#Constructors"
      ],
      "metadata": {
        "id": "c7JjWl2AVSHz"
      }
    },
    {
      "cell_type": "code",
      "source": [],
      "metadata": {
        "id": "MbNXqOqASnGW"
      },
      "execution_count": null,
      "outputs": []
    },
    {
      "cell_type": "code",
      "source": [],
      "metadata": {
        "id": "cOiUsPdsSnI7"
      },
      "execution_count": null,
      "outputs": []
    },
    {
      "cell_type": "code",
      "source": [],
      "metadata": {
        "id": "bi8RhCIzSnLb"
      },
      "execution_count": null,
      "outputs": []
    },
    {
      "cell_type": "code",
      "source": [],
      "metadata": {
        "id": "37b6DJgoSnOZ"
      },
      "execution_count": null,
      "outputs": []
    },
    {
      "cell_type": "code",
      "source": [],
      "metadata": {
        "id": "L0tkRACSSnQm"
      },
      "execution_count": null,
      "outputs": []
    },
    {
      "cell_type": "code",
      "source": [],
      "metadata": {
        "id": "kjVEROHoSnSx"
      },
      "execution_count": null,
      "outputs": []
    },
    {
      "cell_type": "code",
      "source": [],
      "metadata": {
        "id": "20J9lBwZSnWM"
      },
      "execution_count": null,
      "outputs": []
    }
  ]
}