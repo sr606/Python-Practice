{
  "nbformat": 4,
  "nbformat_minor": 0,
  "metadata": {
    "colab": {
      "provenance": [],
      "authorship_tag": "ABX9TyNLTOav0gAtoiHzEEe8RmZe",
      "include_colab_link": true
    },
    "kernelspec": {
      "name": "python3",
      "display_name": "Python 3"
    },
    "language_info": {
      "name": "python"
    }
  },
  "cells": [
    {
      "cell_type": "markdown",
      "metadata": {
        "id": "view-in-github",
        "colab_type": "text"
      },
      "source": [
        "<a href=\"https://colab.research.google.com/github/sr606/Python-Practice/blob/main/Numpy3_Oct24.ipynb\" target=\"_parent\"><img src=\"https://colab.research.google.com/assets/colab-badge.svg\" alt=\"Open In Colab\"/></a>"
      ]
    },
    {
      "cell_type": "code",
      "execution_count": 2,
      "metadata": {
        "colab": {
          "base_uri": "https://localhost:8080/"
        },
        "id": "m9A8PKoNUliQ",
        "outputId": "756167a1-275c-4abc-e58e-99da8274ee54"
      },
      "outputs": [
        {
          "output_type": "execute_result",
          "data": {
            "text/plain": [
              "array([[1., 1., 1., 1., 1.],\n",
              "       [1., 0., 0., 0., 1.],\n",
              "       [1., 0., 0., 0., 1.],\n",
              "       [1., 0., 0., 0., 1.],\n",
              "       [1., 1., 1., 1., 1.]])"
            ]
          },
          "metadata": {},
          "execution_count": 2
        }
      ],
      "source": [
        "import numpy as np\n",
        "x = np.ones((5,5))\n",
        "x[1:-1,1:-1] = 0\n",
        "x"
      ]
    },
    {
      "cell_type": "code",
      "source": [
        "import numpy as np\n",
        "print(np.sort(np.array(['Ram','Astha','Raghavendra'])))"
      ],
      "metadata": {
        "colab": {
          "base_uri": "https://localhost:8080/"
        },
        "id": "0cdSngnDcC9f",
        "outputId": "af53fde8-182e-4dec-ab9b-8e32f049a966"
      },
      "execution_count": 3,
      "outputs": [
        {
          "output_type": "stream",
          "name": "stdout",
          "text": [
            "['Astha' 'Raghavendra' 'Ram']\n"
          ]
        }
      ]
    },
    {
      "cell_type": "code",
      "source": [
        "arr1 = np.array(['Ram','Astha','Brahat'])\n",
        "arr2 = np.array(['Shyam','Kalyan','Naveen'])\n",
        "arr1 > arr2"
      ],
      "metadata": {
        "colab": {
          "base_uri": "https://localhost:8080/"
        },
        "id": "A-so4bTkcsfx",
        "outputId": "9fa09180-50fb-4e19-c799-b9cc48db9f1e"
      },
      "execution_count": 4,
      "outputs": [
        {
          "output_type": "execute_result",
          "data": {
            "text/plain": [
              "array([False, False, False])"
            ]
          },
          "metadata": {},
          "execution_count": 4
        }
      ]
    },
    {
      "cell_type": "code",
      "source": [
        "import numpy as np\n",
        "arr= np.array([[2,3,4,5],[1,7,3,5],[2,8,6,9],[11,23,12,19]])\n",
        "arr1 = np.array([[2,2,2,2]])\n",
        "def func(x, y):\n",
        "    return x * y\n",
        "vec = np.vectorize(func)\n",
        "vec(arr,arr1)"
      ],
      "metadata": {
        "colab": {
          "base_uri": "https://localhost:8080/"
        },
        "id": "cG2G_kl3cC_-",
        "outputId": "7be79763-9329-448e-bba4-975cefb22c07"
      },
      "execution_count": 5,
      "outputs": [
        {
          "output_type": "execute_result",
          "data": {
            "text/plain": [
              "array([[ 4,  6,  8, 10],\n",
              "       [ 2, 14,  6, 10],\n",
              "       [ 4, 16, 12, 18],\n",
              "       [22, 46, 24, 38]])"
            ]
          },
          "metadata": {},
          "execution_count": 5
        }
      ]
    },
    {
      "cell_type": "code",
      "source": [
        "arr1 = np.array([[2],[2],[2],[2]])\n",
        "def func(x, y):\n",
        "    return x * y\n",
        "vec = np.vectorize(func)\n",
        "vec(arr, arr1)"
      ],
      "metadata": {
        "colab": {
          "base_uri": "https://localhost:8080/"
        },
        "id": "UeCT73HLcDDk",
        "outputId": "2f1899cd-d01e-4f8f-c022-042e3efd67f9"
      },
      "execution_count": 6,
      "outputs": [
        {
          "output_type": "execute_result",
          "data": {
            "text/plain": [
              "array([[ 4,  6,  8, 10],\n",
              "       [ 2, 14,  6, 10],\n",
              "       [ 4, 16, 12, 18],\n",
              "       [22, 46, 24, 38]])"
            ]
          },
          "metadata": {},
          "execution_count": 6
        }
      ]
    },
    {
      "cell_type": "code",
      "source": [
        "arr1 = 2\n",
        "def func(x, y):\n",
        "    return x * y\n",
        "vec = np.vectorize(func)\n",
        "vec(arr, arr1)"
      ],
      "metadata": {
        "colab": {
          "base_uri": "https://localhost:8080/"
        },
        "id": "nQXL4hJ4dqRj",
        "outputId": "75b18b3f-ffa2-48ce-da3e-042f0cfdd36e"
      },
      "execution_count": 7,
      "outputs": [
        {
          "output_type": "execute_result",
          "data": {
            "text/plain": [
              "array([[ 4,  6,  8, 10],\n",
              "       [ 2, 14,  6, 10],\n",
              "       [ 4, 16, 12, 18],\n",
              "       [22, 46, 24, 38]])"
            ]
          },
          "metadata": {},
          "execution_count": 7
        }
      ]
    },
    {
      "cell_type": "code",
      "source": [
        "import numpy as np\n",
        "def specific_elements(mat1,mat2,r1,r2,c1,c2):\n",
        "    '''mat1,mat2 are the two 2d numpy array.\n",
        "       r1,r2 are the start and end of rows indices\n",
        "       c1,c2 are the start and end of columns indices\n",
        "       Output = Return a numpy array according to indices'''\n",
        "import numpy as np\n",
        "def specific_elements(mat1,mat2,r1,r2,c1,c2):\n",
        "    '''mat1,mat2 are the two 2d numpy array.\n",
        "       r1,r2 are the start and end of rows indices\n",
        "       c1,c2 are the start and end of columns indices\n",
        "       Output = Return a numpy array according to indices'''\n",
        "\n",
        "    # STEP1 CHECK whether matrix multiplication is possible\n",
        "    #matmul_array = lambda[x: (mat1 * mat2) if mat1.shape[] != mat2.shape[] else -1]\n",
        "\n",
        "\n",
        "    #result = matmul_array[r1:r2,c1:c2]\n",
        "\n",
        "    if mat1.shape[1] == mat2.shape[0]:\n",
        "        result = np.matmul(mat1,mat2)[r1:r2,c1:c2]\n",
        "    else:\n",
        "        result = -1\n",
        "\n",
        "    return result\n"
      ],
      "metadata": {
        "id": "CpO9rpdVdqUH"
      },
      "execution_count": 9,
      "outputs": []
    },
    {
      "cell_type": "code",
      "source": [
        "birds = ['spoonbills',  'plovers',  'plovers',  'plovers',  'plovers',  'Cranes',  'plovers',  'plovers',  'Cranes',  'spoonbills']\n",
        "age = [5.5, 6.0, 3.5, 1.5, 3.0, 4.0, 3.5, 2.0, 5.5, 6.0]"
      ],
      "metadata": {
        "id": "4aTTAeWCdqW6"
      },
      "execution_count": 10,
      "outputs": []
    },
    {
      "cell_type": "code",
      "source": [
        "sorted_age_index = np.argsort(age)\n",
        "sorted_age_index"
      ],
      "metadata": {
        "colab": {
          "base_uri": "https://localhost:8080/"
        },
        "id": "ngEiarE1dqac",
        "outputId": "30174f7d-bcd8-4e18-9bd2-102b28c213d1"
      },
      "execution_count": 14,
      "outputs": [
        {
          "output_type": "execute_result",
          "data": {
            "text/plain": [
              "array([3, 7, 4, 2, 6, 5, 0, 8, 1, 9])"
            ]
          },
          "metadata": {},
          "execution_count": 14
        }
      ]
    },
    {
      "cell_type": "code",
      "source": [
        "## STEP 2: Use the index from previous step to get sorted birds\n",
        "result ="
      ],
      "metadata": {
        "id": "oimpDxNyi1DX"
      },
      "execution_count": null,
      "outputs": []
    },
    {
      "cell_type": "code",
      "source": [],
      "metadata": {
        "id": "GagCG6Zmi1G2"
      },
      "execution_count": null,
      "outputs": []
    }
  ]
}