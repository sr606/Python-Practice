{
  "nbformat": 4,
  "nbformat_minor": 0,
  "metadata": {
    "colab": {
      "provenance": [],
      "include_colab_link": true
    },
    "kernelspec": {
      "name": "python3",
      "display_name": "Python 3"
    },
    "language_info": {
      "name": "python"
    }
  },
  "cells": [
    {
      "cell_type": "markdown",
      "metadata": {
        "id": "view-in-github",
        "colab_type": "text"
      },
      "source": [
        "<a href=\"https://colab.research.google.com/github/sr606/Python-Practice/blob/main/Copy_of_06_Functional_Programming_1.ipynb\" target=\"_parent\"><img src=\"https://colab.research.google.com/assets/colab-badge.svg\" alt=\"Open In Colab\"/></a>"
      ]
    },
    {
      "cell_type": "markdown",
      "source": [
        "#Functional pgmg paradigm\n",
        "\n",
        "functions r the core unit of computation\n",
        "functions are treated as first class citizens\n",
        "you can pass functions as arguments to other functions\n",
        "functions can also return function as o/p\n",
        "\n",
        "###immutabilty\n",
        "avoid mutating data/ changing state of data"
      ],
      "metadata": {
        "id": "fd8bmlNsOhvA"
      }
    },
    {
      "cell_type": "markdown",
      "source": [
        "#Imperative paradigm\n"
      ],
      "metadata": {
        "id": "D9lWGY19PUXm"
      }
    },
    {
      "cell_type": "code",
      "source": [
        "x = 1\n",
        "x =x+1\n",
        "x=2*x\n",
        "x = x-5\n",
        "print(x)\n",
        "#here we r losing the information abt the original value, not easy for debugging"
      ],
      "metadata": {
        "id": "RCb5JrIzQg2x"
      },
      "execution_count": null,
      "outputs": []
    },
    {
      "cell_type": "code",
      "source": [
        "#better way\n",
        "x =1\n",
        "y = x+1\n",
        "z = 2*y\n",
        "u = z-5\n",
        "print(u)"
      ],
      "metadata": {
        "id": "Zxa1pPgmQqzP"
      },
      "execution_count": null,
      "outputs": []
    },
    {
      "cell_type": "code",
      "source": [
        "def random_ops(x):\n",
        "  y = x+1\n",
        "  z = 2*y\n",
        "  u = z-5\n",
        "  return u\n",
        "x =1\n",
        "random_ops(x)"
      ],
      "metadata": {
        "id": "ALAg5IG8REXd"
      },
      "execution_count": null,
      "outputs": []
    },
    {
      "cell_type": "code",
      "execution_count": null,
      "metadata": {
        "id": "4TsLWxSro99B",
        "colab": {
          "base_uri": "https://localhost:8080/"
        },
        "outputId": "f0866ac9-2093-49fb-b8fd-50f855630ce8"
      },
      "outputs": [
        {
          "output_type": "stream",
          "name": "stdout",
          "text": [
            "[1, 4, 9, 16]\n"
          ]
        }
      ],
      "source": [
        "#imperative approach\n",
        "nums = [1,2,3,4]\n",
        "sq_nums = []\n",
        "for i in nums:\n",
        "  sq_nums.append(i**2)\n",
        "\n",
        "print(sq_nums)"
      ]
    },
    {
      "cell_type": "code",
      "source": [
        "# Using Map and Lambda Functions (Functional Approach)\n",
        "nums = [1,2,3,4]\n",
        "sq_nums = list(map(lambda x:x*x, nums))\n",
        "print(sq_nums)"
      ],
      "metadata": {
        "colab": {
          "base_uri": "https://localhost:8080/"
        },
        "id": "HY8Wu9CjN7kB",
        "outputId": "e1a34442-4063-439b-c474-8b9fdd6c429a"
      },
      "execution_count": null,
      "outputs": [
        {
          "output_type": "stream",
          "name": "stdout",
          "text": [
            "[1, 4, 9, 16]\n"
          ]
        }
      ]
    },
    {
      "cell_type": "markdown",
      "source": [
        "#Lambda Functions"
      ],
      "metadata": {
        "id": "a3haUynIOYQH"
      }
    },
    {
      "cell_type": "code",
      "source": [
        "def squar(x):\n",
        "  return x*x"
      ],
      "metadata": {
        "id": "Uh0RknBCN7sn"
      },
      "execution_count": null,
      "outputs": []
    },
    {
      "cell_type": "code",
      "source": [
        "squar(2)"
      ],
      "metadata": {
        "colab": {
          "base_uri": "https://localhost:8080/"
        },
        "id": "rfaqsT9KN7wL",
        "outputId": "2135cee2-06c2-4de7-d212-affa54e32247"
      },
      "execution_count": null,
      "outputs": [
        {
          "output_type": "execute_result",
          "data": {
            "text/plain": [
              "4"
            ]
          },
          "metadata": {},
          "execution_count": 7
        }
      ]
    },
    {
      "cell_type": "code",
      "source": [
        "#lambda input/argument : output/expression\n",
        "lambda_sq = lambda x: x*x\n",
        "lambda_sq(3)"
      ],
      "metadata": {
        "colab": {
          "base_uri": "https://localhost:8080/"
        },
        "id": "YHICCg66N8AZ",
        "outputId": "3bcdb198-e61b-469d-b859-55f46abb5bfb"
      },
      "execution_count": null,
      "outputs": [
        {
          "output_type": "execute_result",
          "data": {
            "text/plain": [
              "9"
            ]
          },
          "metadata": {},
          "execution_count": 9
        }
      ]
    },
    {
      "cell_type": "code",
      "source": [
        "multiply_two_var = lambda x,y : x*y\n",
        "multiply_two_var(2,3)"
      ],
      "metadata": {
        "colab": {
          "base_uri": "https://localhost:8080/"
        },
        "id": "1PX_aFg9N8C-",
        "outputId": "e28c466f-0290-4a0d-9744-9496de3ad2e7"
      },
      "execution_count": null,
      "outputs": [
        {
          "output_type": "execute_result",
          "data": {
            "text/plain": [
              "6"
            ]
          },
          "metadata": {},
          "execution_count": 10
        }
      ]
    },
    {
      "cell_type": "code",
      "source": [
        "type(multiply_two_var)"
      ],
      "metadata": {
        "colab": {
          "base_uri": "https://localhost:8080/"
        },
        "id": "VVVnZB_JN8Fp",
        "outputId": "edddc7b2-9f2a-4589-df89-434acfb3377a"
      },
      "execution_count": null,
      "outputs": [
        {
          "output_type": "execute_result",
          "data": {
            "text/plain": [
              "function"
            ]
          },
          "metadata": {},
          "execution_count": 12
        }
      ]
    },
    {
      "cell_type": "code",
      "source": [
        "#odd even evaluator"
      ],
      "metadata": {
        "id": "goYusEiQN8IO"
      },
      "execution_count": null,
      "outputs": []
    },
    {
      "cell_type": "code",
      "source": [
        "foo: lambda x: 'even' if x%2 == 0 else 'odd'"
      ],
      "metadata": {
        "colab": {
          "base_uri": "https://localhost:8080/"
        },
        "id": "Zsnna7GIN8LB",
        "outputId": "53aee195-a261-4558-c57f-0714850bd6b2"
      },
      "execution_count": null,
      "outputs": [
        {
          "output_type": "execute_result",
          "data": {
            "text/plain": [
              "<function __main__.<lambda>(x)>"
            ]
          },
          "metadata": {},
          "execution_count": 13
        }
      ]
    },
    {
      "cell_type": "code",
      "source": [
        "#multiply 3 nos\n",
        "foo = lambda x,y,z: x*y*z\n",
        "print(foo(1,2,3))"
      ],
      "metadata": {
        "colab": {
          "base_uri": "https://localhost:8080/"
        },
        "id": "6b1w5Wk6N8Nf",
        "outputId": "aa042acb-e3c1-4fa3-f548-ec77c5a08010"
      },
      "execution_count": null,
      "outputs": [
        {
          "output_type": "stream",
          "name": "stdout",
          "text": [
            "6\n"
          ]
        }
      ]
    },
    {
      "cell_type": "code",
      "source": [
        "# if either of\n",
        "foo = lambda x,y,z: '0' if x%2 == 0 or y%2==0 or z%2 == 0 else x*y*z\n",
        "print(foo(1,3,5))"
      ],
      "metadata": {
        "colab": {
          "base_uri": "https://localhost:8080/"
        },
        "id": "BqdecHiwN8P3",
        "outputId": "77f42e9e-f485-40fe-ce54-375ea1408c7b"
      },
      "execution_count": null,
      "outputs": [
        {
          "output_type": "stream",
          "name": "stdout",
          "text": [
            "15\n"
          ]
        }
      ]
    },
    {
      "cell_type": "markdown",
      "source": [
        "#Sorted Function"
      ],
      "metadata": {
        "id": "GH2IPUvgRFJe"
      }
    },
    {
      "cell_type": "code",
      "source": [
        "l = [1,5,3,7,2,9]"
      ],
      "metadata": {
        "id": "PpRdd981RIQc"
      },
      "execution_count": null,
      "outputs": []
    },
    {
      "cell_type": "code",
      "source": [
        "sorted(l)# will create new list"
      ],
      "metadata": {
        "colab": {
          "base_uri": "https://localhost:8080/"
        },
        "id": "TutJXiQtRIaR",
        "outputId": "907a62b1-243a-4f75-df9a-1cd082031cf6"
      },
      "execution_count": null,
      "outputs": [
        {
          "output_type": "execute_result",
          "data": {
            "text/plain": [
              "[1, 2, 3, 5, 7, 9]"
            ]
          },
          "metadata": {},
          "execution_count": 23
        }
      ]
    },
    {
      "cell_type": "code",
      "source": [
        "students = [\n",
        "    {'name': 'A', 'marks': 50},\n",
        "    {'name': 'B', 'marks': 100},\n",
        "    {'name': 'C', 'marks': 40},\n",
        "    {'name': 'D', 'marks': 70},\n",
        "    {'name': 'E', 'marks': 60},\n",
        "]"
      ],
      "metadata": {
        "id": "xz3gQ1PrRIdH"
      },
      "execution_count": null,
      "outputs": []
    },
    {
      "cell_type": "code",
      "source": [
        "sorted(students)"
      ],
      "metadata": {
        "colab": {
          "base_uri": "https://localhost:8080/",
          "height": 141
        },
        "id": "6eOkNx4fUP3n",
        "outputId": "1c6894f6-2da8-4a06-a999-b9388cec1edd"
      },
      "execution_count": null,
      "outputs": [
        {
          "output_type": "error",
          "ename": "TypeError",
          "evalue": "'<' not supported between instances of 'dict' and 'dict'",
          "traceback": [
            "\u001b[0;31m---------------------------------------------------------------------------\u001b[0m",
            "\u001b[0;31mTypeError\u001b[0m                                 Traceback (most recent call last)",
            "\u001b[0;32m<ipython-input-8-7d3dd5d8afa9>\u001b[0m in \u001b[0;36m<cell line: 1>\u001b[0;34m()\u001b[0m\n\u001b[0;32m----> 1\u001b[0;31m \u001b[0msorted\u001b[0m\u001b[0;34m(\u001b[0m\u001b[0mstudents\u001b[0m\u001b[0;34m)\u001b[0m\u001b[0;34m\u001b[0m\u001b[0;34m\u001b[0m\u001b[0m\n\u001b[0m",
            "\u001b[0;31mTypeError\u001b[0m: '<' not supported between instances of 'dict' and 'dict'"
          ]
        }
      ]
    },
    {
      "cell_type": "code",
      "source": [
        "students[0]['marks']"
      ],
      "metadata": {
        "colab": {
          "base_uri": "https://localhost:8080/"
        },
        "id": "HhHxEoR0TycQ",
        "outputId": "7071c8a3-57e2-4c84-d058-8f556b4b2757"
      },
      "execution_count": null,
      "outputs": [
        {
          "output_type": "execute_result",
          "data": {
            "text/plain": [
              "50"
            ]
          },
          "metadata": {},
          "execution_count": 6
        }
      ]
    },
    {
      "cell_type": "code",
      "source": [
        "for i in students:\n",
        "  print(i['marks'])"
      ],
      "metadata": {
        "colab": {
          "base_uri": "https://localhost:8080/"
        },
        "id": "Qkcz7NwuTyfM",
        "outputId": "4de2d8ae-3751-468a-b1d2-1b768fe93187"
      },
      "execution_count": null,
      "outputs": [
        {
          "output_type": "stream",
          "name": "stdout",
          "text": [
            "50\n",
            "100\n",
            "40\n",
            "70\n",
            "60\n"
          ]
        }
      ]
    },
    {
      "cell_type": "code",
      "source": [
        "help(sorted)"
      ],
      "metadata": {
        "colab": {
          "base_uri": "https://localhost:8080/"
        },
        "id": "KJ9RKc5_Tyil",
        "outputId": "f42da6ce-d213-4752-99ef-cb414caf75b1"
      },
      "execution_count": null,
      "outputs": [
        {
          "output_type": "stream",
          "name": "stdout",
          "text": [
            "Help on built-in function sorted in module builtins:\n",
            "\n",
            "sorted(iterable, /, *, key=None, reverse=False)\n",
            "    Return a new list containing all items from the iterable in ascending order.\n",
            "    \n",
            "    A custom key function can be supplied to customize the sort order, and the\n",
            "    reverse flag can be set to request the result in descending order.\n",
            "\n"
          ]
        }
      ]
    },
    {
      "cell_type": "code",
      "source": [
        "get_marks = lambda x:x ['marks']"
      ],
      "metadata": {
        "colab": {
          "base_uri": "https://localhost:8080/",
          "height": 106
        },
        "id": "bAinQJn6Tyk9",
        "outputId": "d6ca64ae-3f3a-4223-8348-3140a18d7080"
      },
      "execution_count": null,
      "outputs": [
        {
          "output_type": "error",
          "ename": "SyntaxError",
          "evalue": "incomplete input (<ipython-input-15-875672cc9696>, line 2)",
          "traceback": [
            "\u001b[0;36m  File \u001b[0;32m\"<ipython-input-15-875672cc9696>\"\u001b[0;36m, line \u001b[0;32m2\u001b[0m\n\u001b[0;31m    print(get_marks()\u001b[0m\n\u001b[0m                     ^\u001b[0m\n\u001b[0;31mSyntaxError\u001b[0m\u001b[0;31m:\u001b[0m incomplete input\n"
          ]
        }
      ]
    },
    {
      "cell_type": "code",
      "source": [
        "for i in students:\n",
        "  print(get_marks(i))"
      ],
      "metadata": {
        "colab": {
          "base_uri": "https://localhost:8080/"
        },
        "id": "aCQ8xMR0Tyok",
        "outputId": "d8ff409b-aa7a-40bc-de4d-f51bc0accbb6"
      },
      "execution_count": null,
      "outputs": [
        {
          "output_type": "stream",
          "name": "stdout",
          "text": [
            "50\n",
            "100\n",
            "40\n",
            "70\n",
            "60\n"
          ]
        }
      ]
    },
    {
      "cell_type": "code",
      "source": [
        "sorted(students, key = lambda x: x['marks'])"
      ],
      "metadata": {
        "colab": {
          "base_uri": "https://localhost:8080/"
        },
        "id": "u5AIQ5NPTzQd",
        "outputId": "cb03d758-6f5b-4b5a-85eb-68a81b68c85b"
      },
      "execution_count": null,
      "outputs": [
        {
          "output_type": "execute_result",
          "data": {
            "text/plain": [
              "[{'name': 'C', 'marks': 40},\n",
              " {'name': 'A', 'marks': 50},\n",
              " {'name': 'E', 'marks': 60},\n",
              " {'name': 'D', 'marks': 70},\n",
              " {'name': 'B', 'marks': 100}]"
            ]
          },
          "metadata": {},
          "execution_count": 16
        }
      ]
    },
    {
      "cell_type": "code",
      "source": [
        "#another example\n",
        "l = [(1,2),(0,5),(3,3)]"
      ],
      "metadata": {
        "id": "AJ34b7OiTzTA"
      },
      "execution_count": null,
      "outputs": []
    },
    {
      "cell_type": "code",
      "source": [
        "l[0][1]"
      ],
      "metadata": {
        "colab": {
          "base_uri": "https://localhost:8080/"
        },
        "id": "rnDnotn_TzWd",
        "outputId": "ab089111-2f80-48aa-9e6f-c58209e9e39a"
      },
      "execution_count": null,
      "outputs": [
        {
          "output_type": "execute_result",
          "data": {
            "text/plain": [
              "2"
            ]
          },
          "metadata": {},
          "execution_count": 22
        }
      ]
    },
    {
      "cell_type": "code",
      "source": [
        "sorted(l, key = lambda x:x[1], reverse = True)"
      ],
      "metadata": {
        "colab": {
          "base_uri": "https://localhost:8080/"
        },
        "id": "sEbSd-SwWoNu",
        "outputId": "bf4c448c-c65d-496e-c8ae-18d70dbd7a18"
      },
      "execution_count": null,
      "outputs": [
        {
          "output_type": "execute_result",
          "data": {
            "text/plain": [
              "[(0, 5), (3, 3), (1, 2)]"
            ]
          },
          "metadata": {},
          "execution_count": 23
        }
      ]
    },
    {
      "cell_type": "code",
      "source": [],
      "metadata": {
        "id": "K-Hdv7ufWoP9"
      },
      "execution_count": null,
      "outputs": []
    },
    {
      "cell_type": "code",
      "source": [],
      "metadata": {
        "id": "M2qbQDzsWoTa"
      },
      "execution_count": null,
      "outputs": []
    },
    {
      "cell_type": "markdown",
      "source": [
        "#Higher Order Functions"
      ],
      "metadata": {
        "id": "BhlOEUA4WzRf"
      }
    },
    {
      "cell_type": "code",
      "source": [],
      "metadata": {
        "id": "-i8a5HqhRIf4"
      },
      "execution_count": null,
      "outputs": []
    },
    {
      "cell_type": "code",
      "source": [],
      "metadata": {
        "id": "W2TljVQjRIjj"
      },
      "execution_count": null,
      "outputs": []
    },
    {
      "cell_type": "code",
      "source": [],
      "metadata": {
        "id": "Tt1TnK9LN8TP"
      },
      "execution_count": null,
      "outputs": []
    }
  ]
}