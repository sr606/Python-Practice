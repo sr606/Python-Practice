{
  "nbformat": 4,
  "nbformat_minor": 0,
  "metadata": {
    "colab": {
      "provenance": [],
      "mount_file_id": "1OvWtLmmWWZAsKIfWa4YrYMeeNKNpLiFA",
      "authorship_tag": "ABX9TyP40FcNw+NW1fn+nxJxUWYX",
      "include_colab_link": true
    },
    "kernelspec": {
      "name": "python3",
      "display_name": "Python 3"
    },
    "language_info": {
      "name": "python"
    }
  },
  "cells": [
    {
      "cell_type": "markdown",
      "metadata": {
        "id": "view-in-github",
        "colab_type": "text"
      },
      "source": [
        "<a href=\"https://colab.research.google.com/github/sr606/Python-Practice/blob/main/NPS_small_Case_study.ipynb\" target=\"_parent\"><img src=\"https://colab.research.google.com/assets/colab-badge.svg\" alt=\"Open In Colab\"/></a>"
      ]
    },
    {
      "cell_type": "code",
      "execution_count": 1,
      "metadata": {
        "id": "SktRdrS_e5Yf"
      },
      "outputs": [],
      "source": [
        "import numpy as np"
      ]
    },
    {
      "cell_type": "code",
      "source": [
        "score = np.loadtxt('/content/drive/MyDrive/Colab Notebooks/Scaler/survey.txt', dtype = 'int')"
      ],
      "metadata": {
        "id": "HornXOJdfMzt"
      },
      "execution_count": 2,
      "outputs": []
    },
    {
      "cell_type": "code",
      "source": [
        "p = score[score > 8]\n",
        "d = score[score < 7]"
      ],
      "metadata": {
        "id": "BHzSTTS5fM2b"
      },
      "execution_count": 3,
      "outputs": []
    },
    {
      "cell_type": "code",
      "source": [
        "promotors = len(p)/len(score) * 100\n",
        "detractors = len(d)/len(score) * 100\n",
        "\n",
        "nps_score = promotors - detractors\n",
        "print(round(nps_score,2))"
      ],
      "metadata": {
        "colab": {
          "base_uri": "https://localhost:8080/"
        },
        "id": "Vpuqx53XfM5N",
        "outputId": "5e20a4ae-4342-4a23-fde9-9fe2de9c9adc"
      },
      "execution_count": 5,
      "outputs": [
        {
          "output_type": "stream",
          "name": "stdout",
          "text": [
            "23.74\n"
          ]
        }
      ]
    },
    {
      "cell_type": "code",
      "source": [],
      "metadata": {
        "id": "-969Q1FZfM7g"
      },
      "execution_count": null,
      "outputs": []
    },
    {
      "cell_type": "code",
      "source": [],
      "metadata": {
        "id": "ie1mS7MwfM_b"
      },
      "execution_count": null,
      "outputs": []
    }
  ]
}